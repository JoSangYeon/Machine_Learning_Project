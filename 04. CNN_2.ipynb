{
 "cells": [
  {
   "cell_type": "markdown",
   "id": "f4377a7e",
   "metadata": {},
   "source": [
    "# 합성곱 신경망(CNN : Convolutional Nerual Network) (Part 2/3)"
   ]
  },
  {
   "cell_type": "markdown",
   "id": "19b8728e",
   "metadata": {},
   "source": [
    "+ 기존의 Fully-Connected 모델은 1차원의 데이터 말고 2차원 이상의 데이터를 사용하게 된다면, 해당 입력 데이터를 Flatten시켜 한 줄의 데이터로 만들어야 한다.\n",
    "+ 이 과정에서 데이터의 손상이 발생하게 된다.\n",
    "+ 이미지의 경우에는 상하좌우 이웃 픽셀의 정보가 손실된다.\n",
    "+ 위 문제를 해결하기 위해 고안한 해결책이 바로 CNN이다.\n",
    "\n",
    "**CNN 장점**\n",
    "> + 단순 Fully-connected 보다 학습시킬 weight가 적다.\n",
    "> + 학습과 연산에 속도가 빠르며, 효율적이다.\n",
    "> + 이미지나 영상데이터를 처리할 때 사용한다.\n",
    "---\n",
    "\n",
    "**CNN의 접근**\n",
    "![image](https://user-images.githubusercontent.com/28241676/152975808-7954439f-1887-4f3f-a624-26e36ba80398.png)"
   ]
  },
  {
   "cell_type": "markdown",
   "id": "c646e31d",
   "metadata": {},
   "source": [
    "---\n",
    "**이미지 표현 => Matrix**\n",
    "![image](https://user-images.githubusercontent.com/28241676/152975987-95af8253-db60-4afd-a6fb-82aa04990a87.png)"
   ]
  },
  {
   "cell_type": "markdown",
   "id": "7a430e69",
   "metadata": {},
   "source": [
    "*해당 실습에서 사용된 데이터와 코드(.ipynb)는 아래 링크에서 확인할 수 있습니다.*\n",
    "+ 데이터 : https://github.com/JoSangYeon/Machine_Learning_Project/tree/master/Data\n",
    "+ 코 드  : https://github.com/JoSangYeon/Machine_Learning_Project/blob/master/04.%20CNN.ipynb"
   ]
  },
  {
   "cell_type": "markdown",
   "id": "f3b42188",
   "metadata": {},
   "source": [
    "## 패키지 Import"
   ]
  },
  {
   "cell_type": "code",
   "execution_count": 1,
   "id": "518a29ab",
   "metadata": {},
   "outputs": [],
   "source": [
    "import pandas as pd\n",
    "import numpy as np\n",
    "import matplotlib.pyplot as plt\n",
    "\n",
    "import torch\n",
    "import torch.nn as nn\n",
    "import torch.nn.functional as F\n",
    "import torch.optim as optim\n",
    "from torch.utils.data import Dataset, DataLoader\n",
    "from torchsummary import summary as summary_\n",
    "\n",
    "\n",
    "from tqdm import tqdm, notebook"
   ]
  },
  {
   "cell_type": "markdown",
   "id": "9e1a6446",
   "metadata": {},
   "source": [
    "## 데이터 살펴보기\n",
    "### Fashion MNIST Dataset"
   ]
  },
  {
   "cell_type": "code",
   "execution_count": 2,
   "id": "709db171",
   "metadata": {},
   "outputs": [],
   "source": [
    "# label_tags = [\"티셔츠/탑\", \"트루저\", \"풀오버\", \"드레스\", \"코트\", \"샌들\", \"셔츠\", \"스니커\", \"가방\", \"앵클부츠\"]\n",
    "label_tags = [\"T-shirt/top\", \"Trouser\", \"Pullover\", \"Dress\", \"Coat\", \"Sandal\", \"Shirt\", \"Sneaker\", \"Bag\", \"Ankle boot\"]\n",
    "\n",
    "train_dataset = pd.read_csv(\"Data/fashion-mnist_train.csv\")\n",
    "test_dataset = pd.read_csv(\"Data/fashion-mnist_test.csv\")\n",
    "\n",
    "# Split to Image & Label\n",
    "train_images = (train_dataset.iloc[:, 1:].values).astype(\"float32\")\n",
    "train_labels = train_dataset[\"label\"].values\n",
    "test_images = (test_dataset.iloc[:, 1:].values).astype(\"float32\")\n",
    "test_labels = test_dataset[\"label\"].values"
   ]
  },
  {
   "cell_type": "code",
   "execution_count": 3,
   "id": "106aa053",
   "metadata": {},
   "outputs": [],
   "source": [
    "# Split into Train, Valid Dataset\n",
    "from sklearn.model_selection import train_test_split\n",
    "train_images, valid_images, train_labels, valid_labels = train_test_split(train_images, \n",
    "                                                                          train_labels, \n",
    "                                                                          stratify = train_labels, \n",
    "                                                                          random_state = 42, \n",
    "                                                                          test_size = 0.2)"
   ]
  },
  {
   "cell_type": "code",
   "execution_count": 4,
   "id": "ce574f8f",
   "metadata": {},
   "outputs": [],
   "source": [
    "# Reshape image's size to check for ours\n",
    "# (size, 784) => (size, 28, 28)\n",
    "train_images = train_images.reshape(train_images.shape[0], 28, 28)\n",
    "valid_images = valid_images.reshape(valid_images.shape[0], 28, 28)\n",
    "test_images = test_images.reshape(test_images.shape[0], 28, 28)"
   ]
  },
  {
   "cell_type": "code",
   "execution_count": 5,
   "id": "f88a7035",
   "metadata": {},
   "outputs": [
    {
     "name": "stdout",
     "output_type": "stream",
     "text": [
      "The Shape of Train Images:  (48000, 28, 28)\n",
      "The Shape of Valid Images:  (12000, 28, 28)\n",
      "The Shape of Test Images:  (10000, 28, 28)\n",
      "The Shape of Train Labels:  (48000,)\n",
      "The Shape of Valid Labels:  (12000,)\n",
      "The Shape of Valid Labels:  (10000,)\n"
     ]
    }
   ],
   "source": [
    "# Check Train, Valid, Test Image's Shape\n",
    "print(\"The Shape of Train Images: \", train_images.shape)\n",
    "print(\"The Shape of Valid Images: \", valid_images.shape)\n",
    "print(\"The Shape of Test Images: \", test_images.shape)\n",
    "\n",
    "# Check Train, Valid Label's Shape\n",
    "print(\"The Shape of Train Labels: \", train_labels.shape)\n",
    "print(\"The Shape of Valid Labels: \", valid_labels.shape)\n",
    "print(\"The Shape of Valid Labels: \", test_labels.shape)"
   ]
  },
  {
   "cell_type": "code",
   "execution_count": 6,
   "id": "b555602b",
   "metadata": {},
   "outputs": [
    {
     "name": "stdout",
     "output_type": "stream",
     "text": [
      "Label : Pullover\n"
     ]
    },
    {
     "data": {
      "image/png": "[encoded data removed]",
      "text/plain": [
       "<Figure size 432x288 with 1 Axes>"
      ]
     },
     "metadata": {
      "needs_background": "light"
     },
     "output_type": "display_data"
    }
   ],
   "source": [
    "# 데이터 시각화\n",
    "img = train_images[20]\n",
    "label = train_labels[20]\n",
    "\n",
    "print(\"Label :\",label_tags[label])\n",
    "plt.imshow(img, cmap='gray'); plt.show()"
   ]
  },
  {
   "cell_type": "markdown",
   "id": "9c330cf1",
   "metadata": {},
   "source": [
    "## Dataset 정의"
   ]
  },
  {
   "cell_type": "code",
   "execution_count": 7,
   "id": "8e93e653",
   "metadata": {},
   "outputs": [],
   "source": [
    "class MyDataset(Dataset):\n",
    "    def __init__(self, feature_data, label_data, num_classes = 10):\n",
    "        self.x_data = feature_data\n",
    "        self.y_data = label_data\n",
    "        self.num_classes = num_classes\n",
    "\n",
    "    def __len__(self):\n",
    "        return len(self.x_data)\n",
    "\n",
    "    def __getitem__(self, idx):\n",
    "        # image\n",
    "        img = self.x_data[idx] / 255.       # 명암값 정규화\n",
    "        img = torch.FloatTensor(img)        # Tensor로 변환\n",
    "        img = img.view(1, 28, 28)           # (channel, width, height)\n",
    "\n",
    "        # label\n",
    "        label = torch.tensor(self.y_data[idx])\n",
    "        label = F.one_hot(label, num_classes = self.num_classes)        # one-hot 인코딩\n",
    "        label = label.float()\n",
    "\n",
    "        return img, label"
   ]
  },
  {
   "cell_type": "code",
   "execution_count": 8,
   "id": "dede6c07",
   "metadata": {},
   "outputs": [
    {
     "name": "stdout",
     "output_type": "stream",
     "text": [
      "<torch.utils.data.dataloader.DataLoader object at 0x00000202F24BAE48>\n",
      "<torch.utils.data.dataloader.DataLoader object at 0x00000202F84CA908>\n",
      "<torch.utils.data.dataloader.DataLoader object at 0x00000202DCD8E688>\n"
     ]
    }
   ],
   "source": [
    "label_tags = ['T-Shirt', 'Trouser', 'Pullover', 'Dress', 'Coat', 'Sandal', 'Shirt','Sneaker', 'Bag', 'Ankle Boot']\n",
    "\n",
    "train_dataset = MyDataset(train_images, train_labels)\n",
    "valid_dataset = MyDataset(valid_images, valid_labels)\n",
    "test_dataset = MyDataset(test_images, test_labels)\n",
    "\n",
    "train_loader = DataLoader(train_dataset, batch_size = 32, shuffle = True)\n",
    "valid_loader = DataLoader(valid_dataset, batch_size = 32)\n",
    "test_loader = DataLoader(test_dataset, batch_size = 32)\n",
    "\n",
    "print(train_loader)\n",
    "print(valid_loader)\n",
    "print(test_loader)"
   ]
  },
  {
   "cell_type": "markdown",
   "id": "d4280c9d",
   "metadata": {},
   "source": [
    "## 훈련 & 검증 함수 정의"
   ]
  },
  {
   "cell_type": "code",
   "execution_count": 17,
   "id": "cd63d22a",
   "metadata": {},
   "outputs": [],
   "source": [
    "loss_fn = nn.CrossEntropyLoss()\n",
    "\n",
    "def calc_acc(X, Y):\n",
    "    x_val, x_idx = torch.max(X, dim=1)\n",
    "    y_val, y_idx = torch.max(Y, dim=1)\n",
    "    return (x_idx == y_idx).sum().item()\n",
    "\n",
    "def train(EPOCHS, model, train_loader, opt):\n",
    "    train_loss_history = []\n",
    "    valid_loss_history = []\n",
    "    train_acc_history = []\n",
    "    valid_acc_history = []\n",
    "    for epoch in range(1, EPOCHS+1):\n",
    "        model.train()\n",
    "        train_acc = 0\n",
    "        print(\"<<< EPOCH {} >>>\".format(epoch))\n",
    "        for batch_idx, (img,label) in enumerate(notebook.tqdm(train_loader)):\n",
    "            img, label = img.to(DEVICE), label.to(DEVICE)\n",
    "            \n",
    "            output = model(img)                 # 순전파\n",
    "            loss = loss_fn(output, label)       # 오차 계산\n",
    "            \n",
    "            opt.zero_grad()                     # opt내부 값 초기화\n",
    "            loss.backward()                     # 오차 역전파\n",
    "            opt.step()                          # 가중치 갱신\n",
    "            \n",
    "            train_acc += calc_acc(output, label)\n",
    "            if batch_idx % 100 == 0 and batch_idx != 0:\n",
    "                print(\"Training : [{}/{} ({:.0f}%)]\\tLoss: {:.6f}\\t Acc : {:.3f}\".format(\n",
    "                    batch_idx * len(img), \n",
    "                    len(train_loader.dataset), \n",
    "                    100. * batch_idx / len(train_loader), \n",
    "                    loss.item(),\n",
    "                    train_acc / len(train_loader.dataset)))\n",
    "        t_loss, t_acc = evaluate(model, valid_loader)\n",
    "        print(\"[{}] valid Loss : {:.4f}\\t accuracy: {:.2f}%\\n\\n\".format(epoch, t_loss, t_acc*100.))\n",
    "\n",
    "        train_loss_history.append(loss.item())\n",
    "        train_acc_history.append(train_acc / len(train_loader.dataset))\n",
    "\n",
    "        valid_loss_history.append(t_loss.item())\n",
    "        valid_acc_history.append(t_acc)\n",
    "\n",
    "    return train_loss_history, train_acc_history, valid_loss_history, valid_acc_history\n",
    "                \n",
    "def evaluate(model, valid_loader):\n",
    "    model.eval()\n",
    "    t_loss = 0\n",
    "    correct = 0\n",
    "    \n",
    "    with torch.no_grad():\n",
    "        for img, label in notebook.tqdm(valid_loader):\n",
    "            img, label = img.to(DEVICE), label.to(DEVICE)\n",
    "            \n",
    "            output = model(img)\n",
    "            t_loss += loss_fn(output, label)\n",
    "            \n",
    "            correct += calc_acc(output, label)\n",
    "\n",
    "    t_loss /= len(valid_loader)\n",
    "    t_acc = correct / len(valid_loader.dataset)\n",
    "    return t_loss, t_acc\n",
    "\n",
    "def predict(model, lower=0, upper=10):\n",
    "    model.eval()\n",
    "    for idx in range(lower, upper):\n",
    "        img, _ = test_dataset.__getitem__(idx)\n",
    "\n",
    "        output = model(img.view(1, 1, 28, 28))\n",
    "\n",
    "        o_val, o_idx = torch.max(output, dim=1)\n",
    "\n",
    "        print(\"Label :\", label_tags[o_idx.item()])\n",
    "        plt.imshow(img.view(28, 28), cmap='gray')\n",
    "        plt.show()\n",
    "        print()"
   ]
  },
  {
   "cell_type": "markdown",
   "id": "8659c64f",
   "metadata": {},
   "source": [
    "## 모델 정의"
   ]
  },
  {
   "cell_type": "markdown",
   "id": "1c40296b",
   "metadata": {},
   "source": [
    "## Linear Net"
   ]
  },
  {
   "cell_type": "code",
   "execution_count": 18,
   "id": "da8b06c4",
   "metadata": {},
   "outputs": [],
   "source": [
    "class LinearNet(nn.Module):\n",
    "    def __init__(self):\n",
    "        super(LinearNet, self).__init__()\n",
    "        self.fc1 = nn.Linear(784, 256)\n",
    "        self.fc2 = nn.Linear(256, 64)\n",
    "        self.fc3 = nn.Linear(64, 10)\n",
    "\n",
    "        self.act_fn = nn.LeakyReLU()\n",
    "\n",
    "    def forward(self, x):\n",
    "        x = x.view(-1, 1*28*28)\n",
    "\n",
    "        x = self.fc1(x)\n",
    "        x = self.act_fn(x)\n",
    "\n",
    "        x = self.fc2(x)\n",
    "        x = self.act_fn(x)\n",
    "\n",
    "        x = self.fc3(x)\n",
    "        return x"
   ]
  },
  {
   "cell_type": "markdown",
   "id": "bdc995ce",
   "metadata": {},
   "source": [
    "## CNN"
   ]
  },
  {
   "cell_type": "code",
   "execution_count": 19,
   "id": "c2e031c0",
   "metadata": {},
   "outputs": [],
   "source": [
    "class CNN(nn.Module):\n",
    "    def __init__(self):\n",
    "        super(CNN, self).__init__()\n",
    "        self.conv1 = nn.Conv2d(1, 8, kernel_size = 3, padding = 1)\n",
    "        self.conv2 = nn.Conv2d(8 , 16, kernel_size = 3, padding = 1)\n",
    "        self.conv3 = nn.Conv2d(16, 32, kernel_size = 3, padding = 1)\n",
    "        self.conv4 = nn.Conv2d(32, 64, kernel_size = 3, padding = 1)\n",
    "\n",
    "        self.pooling = nn.MaxPool2d(2, 2)\n",
    "        self.flatten = nn.AdaptiveAvgPool2d(1)\n",
    "\n",
    "        self.fc1 = nn.Linear(64, 24)\n",
    "        self.fc2 = nn.Linear(24, 10)\n",
    "\n",
    "        self.act_fn = nn.LeakyReLU()\n",
    "\n",
    "    def forward(self, x):\n",
    "        x = self.conv1(x)           # (batch, 1, 28, 28) -> (batch, 8, 28, 28)\n",
    "        x = self.pooling(x)         # (batch, 8, 28, 28) -> (batch, 8, 14, 14)\n",
    "        x = self.act_fn(x)\n",
    "\n",
    "        x = self.conv2(x)           # (batch, 8, 14, 14) -> (batch, 16, 14, 14)\n",
    "        x = self.pooling(x)         # (batch, 16, 14, 14) -> (batch, 16, 7, 7)\n",
    "        x = self.act_fn(x)\n",
    "\n",
    "        x = self.conv3(x)           # (batch, 16, 7, 7) -> (batch, 32, 7, 7)\n",
    "        x = self.pooling(x)         # (batch, 32, 7, 7) -> (batch, 32, 3, 3)\n",
    "        x = self.act_fn(x)\n",
    "        \n",
    "        x = self.conv4(x)           # (batch, 32, 3, 3) -> (batch, 64, 3, 3)\n",
    "        x = self.pooling(x)         # (batch, 64, 3, 3) -> (batch, 64, 1, 1)\n",
    "        x = self.act_fn(x)        \n",
    "\n",
    "        x = self.flatten(x)         # # (batch, 64, 3, 3) -> (batch, 64, 1, 1)\n",
    "        x = x.view(-1, 64*1*1)\n",
    "        \n",
    "        x = self.fc1(x)\n",
    "        x = self.act_fn(x)\n",
    "\n",
    "        x = self.fc2(x)\n",
    "        return x"
   ]
  },
  {
   "cell_type": "markdown",
   "id": "74750078",
   "metadata": {},
   "source": [
    "## 훈련 및 검증"
   ]
  },
  {
   "cell_type": "markdown",
   "id": "e22437d1",
   "metadata": {},
   "source": [
    "### Linear Net"
   ]
  },
  {
   "cell_type": "code",
   "execution_count": 30,
   "id": "3d4e63ef",
   "metadata": {},
   "outputs": [
    {
     "name": "stdout",
     "output_type": "stream",
     "text": [
      "Device : cuda\n",
      "----------------------------------------------------------------\n",
      "        Layer (type)               Output Shape         Param #\n",
      "================================================================\n",
      "            Linear-1                  [-1, 256]         200,960\n",
      "         LeakyReLU-2                  [-1, 256]               0\n",
      "            Linear-3                   [-1, 64]          16,448\n",
      "         LeakyReLU-4                   [-1, 64]               0\n",
      "            Linear-5                   [-1, 10]             650\n",
      "================================================================\n",
      "Total params: 218,058\n",
      "Trainable params: 218,058\n",
      "Non-trainable params: 0\n",
      "----------------------------------------------------------------\n",
      "Input size (MB): 0.00\n",
      "Forward/backward pass size (MB): 0.00\n",
      "Params size (MB): 0.83\n",
      "Estimated Total Size (MB): 0.84\n",
      "----------------------------------------------------------------\n"
     ]
    }
   ],
   "source": [
    "USE_CUDA = torch.cuda.is_available()\n",
    "DEVICE = \"cuda\" if USE_CUDA else \"cpu\"\n",
    "\n",
    "model = LinearNet().to(DEVICE)\n",
    "opt = optim.Adam(model.parameters())\n",
    "\n",
    "print(\"Device :\", DEVICE)\n",
    "summary_(model,(1,28,28), device=DEVICE)"
   ]
  },
  {
   "cell_type": "code",
   "execution_count": 31,
   "id": "dee78723",
   "metadata": {
    "scrolled": true
   },
   "outputs": [
    {
     "name": "stdout",
     "output_type": "stream",
     "text": [
      "<<< EPOCH 1 >>>\n"
     ]
    },
    {
     "data": {
      "application/vnd.jupyter.widget-view+json": {
       "model_id": "9ab14f1429ba4295be6d9f9ef6a58184",
       "version_major": 2,
       "version_minor": 0
      },
      "text/plain": [
       "  0%|          | 0/1500 [00:00<?, ?it/s]"
      ]
     },
     "metadata": {},
     "output_type": "display_data"
    },
    {
     "name": "stdout",
     "output_type": "stream",
     "text": [
      "Training : [3200/48000 (7%)]\tLoss: 0.735302\t Acc : 0.041\n",
      "Training : [6400/48000 (13%)]\tLoss: 0.429874\t Acc : 0.091\n",
      "Training : [9600/48000 (20%)]\tLoss: 0.437708\t Acc : 0.143\n",
      "Training : [12800/48000 (27%)]\tLoss: 0.357811\t Acc : 0.196\n",
      "Training : [16000/48000 (33%)]\tLoss: 0.395073\t Acc : 0.251\n",
      "Training : [19200/48000 (40%)]\tLoss: 0.548772\t Acc : 0.305\n",
      "Training : [22400/48000 (47%)]\tLoss: 0.582758\t Acc : 0.360\n",
      "Training : [25600/48000 (53%)]\tLoss: 0.489112\t Acc : 0.416\n",
      "Training : [28800/48000 (60%)]\tLoss: 0.352894\t Acc : 0.471\n",
      "Training : [32000/48000 (67%)]\tLoss: 0.434810\t Acc : 0.526\n",
      "Training : [35200/48000 (73%)]\tLoss: 0.329541\t Acc : 0.583\n",
      "Training : [38400/48000 (80%)]\tLoss: 0.274741\t Acc : 0.639\n",
      "Training : [41600/48000 (87%)]\tLoss: 0.259201\t Acc : 0.695\n",
      "Training : [44800/48000 (93%)]\tLoss: 0.350932\t Acc : 0.752\n"
     ]
    },
    {
     "data": {
      "application/vnd.jupyter.widget-view+json": {
       "model_id": "8ba25e69e6d6488dbc5624527093fb5f",
       "version_major": 2,
       "version_minor": 0
      },
      "text/plain": [
       "  0%|          | 0/375 [00:00<?, ?it/s]"
      ]
     },
     "metadata": {},
     "output_type": "display_data"
    },
    {
     "name": "stdout",
     "output_type": "stream",
     "text": [
      "[1] valid Loss : 0.3948\t accuracy: 84.87%\n",
      "\n",
      "\n",
      "<<< EPOCH 2 >>>\n"
     ]
    },
    {
     "data": {
      "application/vnd.jupyter.widget-view+json": {
       "model_id": "5dff7ed1be9b40d484419fa0d90be36a",
       "version_major": 2,
       "version_minor": 0
      },
      "text/plain": [
       "  0%|          | 0/1500 [00:00<?, ?it/s]"
      ]
     },
     "metadata": {},
     "output_type": "display_data"
    },
    {
     "name": "stdout",
     "output_type": "stream",
     "text": [
      "Training : [3200/48000 (7%)]\tLoss: 0.448148\t Acc : 0.057\n",
      "Training : [6400/48000 (13%)]\tLoss: 0.456143\t Acc : 0.114\n",
      "Training : [9600/48000 (20%)]\tLoss: 0.389178\t Acc : 0.171\n",
      "Training : [12800/48000 (27%)]\tLoss: 0.145121\t Acc : 0.228\n",
      "Training : [16000/48000 (33%)]\tLoss: 0.290434\t Acc : 0.285\n",
      "Training : [19200/48000 (40%)]\tLoss: 0.479880\t Acc : 0.343\n",
      "Training : [22400/48000 (47%)]\tLoss: 0.483696\t Acc : 0.400\n",
      "Training : [25600/48000 (53%)]\tLoss: 0.155877\t Acc : 0.458\n",
      "Training : [28800/48000 (60%)]\tLoss: 0.268751\t Acc : 0.514\n",
      "Training : [32000/48000 (67%)]\tLoss: 0.311034\t Acc : 0.572\n",
      "Training : [35200/48000 (73%)]\tLoss: 0.415847\t Acc : 0.630\n",
      "Training : [38400/48000 (80%)]\tLoss: 0.326008\t Acc : 0.687\n",
      "Training : [41600/48000 (87%)]\tLoss: 0.312699\t Acc : 0.745\n",
      "Training : [44800/48000 (93%)]\tLoss: 0.507022\t Acc : 0.803\n"
     ]
    },
    {
     "data": {
      "application/vnd.jupyter.widget-view+json": {
       "model_id": "c5d10054b8994aac86a3ec2edbd23c35",
       "version_major": 2,
       "version_minor": 0
      },
      "text/plain": [
       "  0%|          | 0/375 [00:00<?, ?it/s]"
      ]
     },
     "metadata": {},
     "output_type": "display_data"
    },
    {
     "name": "stdout",
     "output_type": "stream",
     "text": [
      "[2] valid Loss : 0.3696\t accuracy: 86.38%\n",
      "\n",
      "\n",
      "<<< EPOCH 3 >>>\n"
     ]
    },
    {
     "data": {
      "application/vnd.jupyter.widget-view+json": {
       "model_id": "51ae9cf854ab4cdfa9d56cf880a9cea4",
       "version_major": 2,
       "version_minor": 0
      },
      "text/plain": [
       "  0%|          | 0/1500 [00:00<?, ?it/s]"
      ]
     },
     "metadata": {},
     "output_type": "display_data"
    },
    {
     "name": "stdout",
     "output_type": "stream",
     "text": [
      "Training : [3200/48000 (7%)]\tLoss: 0.318991\t Acc : 0.059\n",
      "Training : [6400/48000 (13%)]\tLoss: 0.279758\t Acc : 0.117\n",
      "Training : [9600/48000 (20%)]\tLoss: 0.096477\t Acc : 0.175\n",
      "Training : [12800/48000 (27%)]\tLoss: 0.301764\t Acc : 0.234\n",
      "Training : [16000/48000 (33%)]\tLoss: 0.470610\t Acc : 0.291\n",
      "Training : [19200/48000 (40%)]\tLoss: 0.197499\t Acc : 0.350\n",
      "Training : [22400/48000 (47%)]\tLoss: 0.372421\t Acc : 0.407\n",
      "Training : [25600/48000 (53%)]\tLoss: 0.525115\t Acc : 0.466\n",
      "Training : [28800/48000 (60%)]\tLoss: 0.429163\t Acc : 0.524\n",
      "Training : [32000/48000 (67%)]\tLoss: 0.279217\t Acc : 0.582\n",
      "Training : [35200/48000 (73%)]\tLoss: 0.236866\t Acc : 0.641\n",
      "Training : [38400/48000 (80%)]\tLoss: 0.302564\t Acc : 0.699\n",
      "Training : [41600/48000 (87%)]\tLoss: 0.524992\t Acc : 0.758\n",
      "Training : [44800/48000 (93%)]\tLoss: 0.443039\t Acc : 0.816\n"
     ]
    },
    {
     "data": {
      "application/vnd.jupyter.widget-view+json": {
       "model_id": "83be9c76f348483495bd63444647c333",
       "version_major": 2,
       "version_minor": 0
      },
      "text/plain": [
       "  0%|          | 0/375 [00:00<?, ?it/s]"
      ]
     },
     "metadata": {},
     "output_type": "display_data"
    },
    {
     "name": "stdout",
     "output_type": "stream",
     "text": [
      "[3] valid Loss : 0.3667\t accuracy: 86.43%\n",
      "\n",
      "\n",
      "<<< EPOCH 4 >>>\n"
     ]
    },
    {
     "data": {
      "application/vnd.jupyter.widget-view+json": {
       "model_id": "b71ed19fc50e49edab663f99260dd43f",
       "version_major": 2,
       "version_minor": 0
      },
      "text/plain": [
       "  0%|          | 0/1500 [00:00<?, ?it/s]"
      ]
     },
     "metadata": {},
     "output_type": "display_data"
    },
    {
     "name": "stdout",
     "output_type": "stream",
     "text": [
      "Training : [3200/48000 (7%)]\tLoss: 0.274190\t Acc : 0.059\n",
      "Training : [6400/48000 (13%)]\tLoss: 0.265132\t Acc : 0.118\n",
      "Training : [9600/48000 (20%)]\tLoss: 0.164344\t Acc : 0.177\n",
      "Training : [12800/48000 (27%)]\tLoss: 0.334045\t Acc : 0.236\n",
      "Training : [16000/48000 (33%)]\tLoss: 0.663273\t Acc : 0.295\n",
      "Training : [19200/48000 (40%)]\tLoss: 0.216514\t Acc : 0.354\n",
      "Training : [22400/48000 (47%)]\tLoss: 0.166677\t Acc : 0.413\n",
      "Training : [25600/48000 (53%)]\tLoss: 0.395569\t Acc : 0.472\n",
      "Training : [28800/48000 (60%)]\tLoss: 0.196698\t Acc : 0.531\n",
      "Training : [32000/48000 (67%)]\tLoss: 0.518613\t Acc : 0.590\n",
      "Training : [35200/48000 (73%)]\tLoss: 0.316425\t Acc : 0.649\n",
      "Training : [38400/48000 (80%)]\tLoss: 0.296644\t Acc : 0.708\n",
      "Training : [41600/48000 (87%)]\tLoss: 0.238176\t Acc : 0.767\n",
      "Training : [44800/48000 (93%)]\tLoss: 0.252924\t Acc : 0.826\n"
     ]
    },
    {
     "data": {
      "application/vnd.jupyter.widget-view+json": {
       "model_id": "cd2481660fb74f5e972aed494821e32a",
       "version_major": 2,
       "version_minor": 0
      },
      "text/plain": [
       "  0%|          | 0/375 [00:00<?, ?it/s]"
      ]
     },
     "metadata": {},
     "output_type": "display_data"
    },
    {
     "name": "stdout",
     "output_type": "stream",
     "text": [
      "[4] valid Loss : 0.3495\t accuracy: 87.14%\n",
      "\n",
      "\n",
      "<<< EPOCH 5 >>>\n"
     ]
    },
    {
     "data": {
      "application/vnd.jupyter.widget-view+json": {
       "model_id": "5b1daf7670d848608d6e6c3a02f5ae54",
       "version_major": 2,
       "version_minor": 0
      },
      "text/plain": [
       "  0%|          | 0/1500 [00:00<?, ?it/s]"
      ]
     },
     "metadata": {},
     "output_type": "display_data"
    },
    {
     "name": "stdout",
     "output_type": "stream",
     "text": [
      "Training : [3200/48000 (7%)]\tLoss: 0.166381\t Acc : 0.060\n",
      "Training : [6400/48000 (13%)]\tLoss: 0.305189\t Acc : 0.119\n",
      "Training : [9600/48000 (20%)]\tLoss: 0.346858\t Acc : 0.178\n",
      "Training : [12800/48000 (27%)]\tLoss: 0.270480\t Acc : 0.238\n",
      "Training : [16000/48000 (33%)]\tLoss: 0.141643\t Acc : 0.296\n",
      "Training : [19200/48000 (40%)]\tLoss: 0.141821\t Acc : 0.356\n",
      "Training : [22400/48000 (47%)]\tLoss: 0.336187\t Acc : 0.415\n",
      "Training : [25600/48000 (53%)]\tLoss: 0.308360\t Acc : 0.475\n",
      "Training : [28800/48000 (60%)]\tLoss: 0.199161\t Acc : 0.534\n",
      "Training : [32000/48000 (67%)]\tLoss: 0.504691\t Acc : 0.593\n",
      "Training : [35200/48000 (73%)]\tLoss: 0.413327\t Acc : 0.653\n",
      "Training : [38400/48000 (80%)]\tLoss: 0.128112\t Acc : 0.712\n",
      "Training : [41600/48000 (87%)]\tLoss: 0.185107\t Acc : 0.772\n",
      "Training : [44800/48000 (93%)]\tLoss: 0.360918\t Acc : 0.830\n"
     ]
    },
    {
     "data": {
      "application/vnd.jupyter.widget-view+json": {
       "model_id": "e3b3b6a5bc2c4a2e884eee1671ec593c",
       "version_major": 2,
       "version_minor": 0
      },
      "text/plain": [
       "  0%|          | 0/375 [00:00<?, ?it/s]"
      ]
     },
     "metadata": {},
     "output_type": "display_data"
    },
    {
     "name": "stdout",
     "output_type": "stream",
     "text": [
      "[5] valid Loss : 0.3450\t accuracy: 87.33%\n",
      "\n",
      "\n",
      "<<< EPOCH 6 >>>\n"
     ]
    },
    {
     "data": {
      "application/vnd.jupyter.widget-view+json": {
       "model_id": "705bf822149d47359bb0de2f72c2ded6",
       "version_major": 2,
       "version_minor": 0
      },
      "text/plain": [
       "  0%|          | 0/1500 [00:00<?, ?it/s]"
      ]
     },
     "metadata": {},
     "output_type": "display_data"
    },
    {
     "name": "stdout",
     "output_type": "stream",
     "text": [
      "Training : [3200/48000 (7%)]\tLoss: 0.134799\t Acc : 0.060\n",
      "Training : [6400/48000 (13%)]\tLoss: 0.288316\t Acc : 0.120\n",
      "Training : [9600/48000 (20%)]\tLoss: 0.118618\t Acc : 0.180\n",
      "Training : [12800/48000 (27%)]\tLoss: 0.153470\t Acc : 0.240\n",
      "Training : [16000/48000 (33%)]\tLoss: 0.301417\t Acc : 0.299\n",
      "Training : [19200/48000 (40%)]\tLoss: 0.485130\t Acc : 0.358\n",
      "Training : [22400/48000 (47%)]\tLoss: 0.326108\t Acc : 0.418\n",
      "Training : [25600/48000 (53%)]\tLoss: 0.546504\t Acc : 0.477\n",
      "Training : [28800/48000 (60%)]\tLoss: 0.260103\t Acc : 0.536\n",
      "Training : [32000/48000 (67%)]\tLoss: 0.196125\t Acc : 0.596\n",
      "Training : [35200/48000 (73%)]\tLoss: 0.224432\t Acc : 0.655\n",
      "Training : [38400/48000 (80%)]\tLoss: 0.245428\t Acc : 0.715\n",
      "Training : [41600/48000 (87%)]\tLoss: 0.330523\t Acc : 0.775\n",
      "Training : [44800/48000 (93%)]\tLoss: 0.087961\t Acc : 0.835\n"
     ]
    },
    {
     "data": {
      "application/vnd.jupyter.widget-view+json": {
       "model_id": "0345ee4f778c420cabd70aa595114502",
       "version_major": 2,
       "version_minor": 0
      },
      "text/plain": [
       "  0%|          | 0/375 [00:00<?, ?it/s]"
      ]
     },
     "metadata": {},
     "output_type": "display_data"
    },
    {
     "name": "stdout",
     "output_type": "stream",
     "text": [
      "[6] valid Loss : 0.3241\t accuracy: 88.03%\n",
      "\n",
      "\n",
      "<<< EPOCH 7 >>>\n"
     ]
    },
    {
     "data": {
      "application/vnd.jupyter.widget-view+json": {
       "model_id": "f140f64c85ca49a586223e104b557f61",
       "version_major": 2,
       "version_minor": 0
      },
      "text/plain": [
       "  0%|          | 0/1500 [00:00<?, ?it/s]"
      ]
     },
     "metadata": {},
     "output_type": "display_data"
    },
    {
     "name": "stdout",
     "output_type": "stream",
     "text": [
      "Training : [3200/48000 (7%)]\tLoss: 0.149255\t Acc : 0.060\n",
      "Training : [6400/48000 (13%)]\tLoss: 0.304750\t Acc : 0.120\n",
      "Training : [9600/48000 (20%)]\tLoss: 0.069160\t Acc : 0.180\n",
      "Training : [12800/48000 (27%)]\tLoss: 0.432408\t Acc : 0.239\n",
      "Training : [16000/48000 (33%)]\tLoss: 0.301639\t Acc : 0.299\n",
      "Training : [19200/48000 (40%)]\tLoss: 0.243132\t Acc : 0.359\n",
      "Training : [22400/48000 (47%)]\tLoss: 0.467878\t Acc : 0.419\n",
      "Training : [25600/48000 (53%)]\tLoss: 0.277644\t Acc : 0.480\n",
      "Training : [28800/48000 (60%)]\tLoss: 0.281952\t Acc : 0.540\n",
      "Training : [32000/48000 (67%)]\tLoss: 0.128633\t Acc : 0.601\n",
      "Training : [35200/48000 (73%)]\tLoss: 0.389777\t Acc : 0.660\n",
      "Training : [38400/48000 (80%)]\tLoss: 0.161849\t Acc : 0.720\n",
      "Training : [41600/48000 (87%)]\tLoss: 0.234918\t Acc : 0.780\n",
      "Training : [44800/48000 (93%)]\tLoss: 0.221204\t Acc : 0.840\n"
     ]
    },
    {
     "data": {
      "application/vnd.jupyter.widget-view+json": {
       "model_id": "51903b66545243768c7796c9884078f0",
       "version_major": 2,
       "version_minor": 0
      },
      "text/plain": [
       "  0%|          | 0/375 [00:00<?, ?it/s]"
      ]
     },
     "metadata": {},
     "output_type": "display_data"
    },
    {
     "name": "stdout",
     "output_type": "stream",
     "text": [
      "[7] valid Loss : 0.3214\t accuracy: 88.08%\n",
      "\n",
      "\n",
      "<<< EPOCH 8 >>>\n"
     ]
    },
    {
     "data": {
      "application/vnd.jupyter.widget-view+json": {
       "model_id": "f435ff7a520c43b0aa853bc3428b146c",
       "version_major": 2,
       "version_minor": 0
      },
      "text/plain": [
       "  0%|          | 0/1500 [00:00<?, ?it/s]"
      ]
     },
     "metadata": {},
     "output_type": "display_data"
    },
    {
     "name": "stdout",
     "output_type": "stream",
     "text": [
      "Training : [3200/48000 (7%)]\tLoss: 0.458626\t Acc : 0.061\n",
      "Training : [6400/48000 (13%)]\tLoss: 0.154441\t Acc : 0.121\n",
      "Training : [9600/48000 (20%)]\tLoss: 0.214524\t Acc : 0.181\n",
      "Training : [12800/48000 (27%)]\tLoss: 0.256739\t Acc : 0.241\n",
      "Training : [16000/48000 (33%)]\tLoss: 0.231911\t Acc : 0.301\n",
      "Training : [19200/48000 (40%)]\tLoss: 0.203256\t Acc : 0.361\n",
      "Training : [22400/48000 (47%)]\tLoss: 0.114346\t Acc : 0.422\n",
      "Training : [25600/48000 (53%)]\tLoss: 0.227190\t Acc : 0.482\n",
      "Training : [28800/48000 (60%)]\tLoss: 0.226464\t Acc : 0.543\n",
      "Training : [32000/48000 (67%)]\tLoss: 0.177185\t Acc : 0.603\n",
      "Training : [35200/48000 (73%)]\tLoss: 0.372691\t Acc : 0.663\n",
      "Training : [38400/48000 (80%)]\tLoss: 0.148210\t Acc : 0.724\n",
      "Training : [41600/48000 (87%)]\tLoss: 0.191321\t Acc : 0.784\n",
      "Training : [44800/48000 (93%)]\tLoss: 0.296551\t Acc : 0.844\n"
     ]
    },
    {
     "data": {
      "application/vnd.jupyter.widget-view+json": {
       "model_id": "55e853d7839a4529b4b1877ee2d2ac27",
       "version_major": 2,
       "version_minor": 0
      },
      "text/plain": [
       "  0%|          | 0/375 [00:00<?, ?it/s]"
      ]
     },
     "metadata": {},
     "output_type": "display_data"
    },
    {
     "name": "stdout",
     "output_type": "stream",
     "text": [
      "[8] valid Loss : 0.3104\t accuracy: 88.66%\n",
      "\n",
      "\n",
      "<<< EPOCH 9 >>>\n"
     ]
    },
    {
     "data": {
      "application/vnd.jupyter.widget-view+json": {
       "model_id": "bff2a6bf18184aa2a29b500d9f0f2d85",
       "version_major": 2,
       "version_minor": 0
      },
      "text/plain": [
       "  0%|          | 0/1500 [00:00<?, ?it/s]"
      ]
     },
     "metadata": {},
     "output_type": "display_data"
    },
    {
     "name": "stdout",
     "output_type": "stream",
     "text": [
      "Training : [3200/48000 (7%)]\tLoss: 0.254257\t Acc : 0.061\n",
      "Training : [6400/48000 (13%)]\tLoss: 0.322637\t Acc : 0.122\n",
      "Training : [9600/48000 (20%)]\tLoss: 0.137620\t Acc : 0.182\n",
      "Training : [12800/48000 (27%)]\tLoss: 0.300177\t Acc : 0.242\n",
      "Training : [16000/48000 (33%)]\tLoss: 0.334867\t Acc : 0.303\n",
      "Training : [19200/48000 (40%)]\tLoss: 0.318614\t Acc : 0.363\n",
      "Training : [22400/48000 (47%)]\tLoss: 0.231747\t Acc : 0.423\n",
      "Training : [25600/48000 (53%)]\tLoss: 0.415765\t Acc : 0.484\n",
      "Training : [28800/48000 (60%)]\tLoss: 0.172975\t Acc : 0.544\n",
      "Training : [32000/48000 (67%)]\tLoss: 0.145282\t Acc : 0.604\n",
      "Training : [35200/48000 (73%)]\tLoss: 0.167290\t Acc : 0.664\n",
      "Training : [38400/48000 (80%)]\tLoss: 0.311487\t Acc : 0.725\n",
      "Training : [41600/48000 (87%)]\tLoss: 0.192379\t Acc : 0.786\n",
      "Training : [44800/48000 (93%)]\tLoss: 0.110205\t Acc : 0.847\n"
     ]
    },
    {
     "data": {
      "application/vnd.jupyter.widget-view+json": {
       "model_id": "7480a7bfb84540f38269ab154e04fe83",
       "version_major": 2,
       "version_minor": 0
      },
      "text/plain": [
       "  0%|          | 0/375 [00:00<?, ?it/s]"
      ]
     },
     "metadata": {},
     "output_type": "display_data"
    },
    {
     "name": "stdout",
     "output_type": "stream",
     "text": [
      "[9] valid Loss : 0.3531\t accuracy: 87.69%\n",
      "\n",
      "\n",
      "<<< EPOCH 10 >>>\n"
     ]
    },
    {
     "data": {
      "application/vnd.jupyter.widget-view+json": {
       "model_id": "5be566b97f664b34ad43deaacc85a477",
       "version_major": 2,
       "version_minor": 0
      },
      "text/plain": [
       "  0%|          | 0/1500 [00:00<?, ?it/s]"
      ]
     },
     "metadata": {},
     "output_type": "display_data"
    },
    {
     "name": "stdout",
     "output_type": "stream",
     "text": [
      "Training : [3200/48000 (7%)]\tLoss: 0.036901\t Acc : 0.061\n",
      "Training : [6400/48000 (13%)]\tLoss: 0.119846\t Acc : 0.122\n",
      "Training : [9600/48000 (20%)]\tLoss: 0.190663\t Acc : 0.183\n",
      "Training : [12800/48000 (27%)]\tLoss: 0.150570\t Acc : 0.244\n",
      "Training : [16000/48000 (33%)]\tLoss: 0.219424\t Acc : 0.305\n",
      "Training : [19200/48000 (40%)]\tLoss: 0.147680\t Acc : 0.365\n",
      "Training : [22400/48000 (47%)]\tLoss: 0.134401\t Acc : 0.426\n",
      "Training : [25600/48000 (53%)]\tLoss: 0.309252\t Acc : 0.487\n",
      "Training : [28800/48000 (60%)]\tLoss: 0.258714\t Acc : 0.547\n",
      "Training : [32000/48000 (67%)]\tLoss: 0.262678\t Acc : 0.608\n",
      "Training : [35200/48000 (73%)]\tLoss: 0.104464\t Acc : 0.668\n",
      "Training : [38400/48000 (80%)]\tLoss: 0.418408\t Acc : 0.729\n",
      "Training : [41600/48000 (87%)]\tLoss: 0.279206\t Acc : 0.789\n",
      "Training : [44800/48000 (93%)]\tLoss: 0.253712\t Acc : 0.851\n"
     ]
    },
    {
     "data": {
      "application/vnd.jupyter.widget-view+json": {
       "model_id": "d6e634394c744f9f8fcc59fda0821bf9",
       "version_major": 2,
       "version_minor": 0
      },
      "text/plain": [
       "  0%|          | 0/375 [00:00<?, ?it/s]"
      ]
     },
     "metadata": {},
     "output_type": "display_data"
    },
    {
     "name": "stdout",
     "output_type": "stream",
     "text": [
      "[10] valid Loss : 0.3202\t accuracy: 88.84%\n",
      "\n",
      "\n"
     ]
    }
   ],
   "source": [
    "# 학습 시작 #\n",
    "t_loss_his, t_acc_his, v_loss_his, v_acc_his = train(EPOCHS = 10, model = model, train_loader = train_loader, opt = opt)"
   ]
  },
  {
   "cell_type": "code",
   "execution_count": 32,
   "id": "326ac27a",
   "metadata": {},
   "outputs": [
    {
     "data": {
      "image/png": "[encoded data removed]",
      "text/plain": [
       "<Figure size 432x288 with 1 Axes>"
      ]
     },
     "metadata": {
      "needs_background": "light"
     },
     "output_type": "display_data"
    }
   ],
   "source": [
    "plt.plot(t_loss_his, label=\"train\")\n",
    "plt.plot(v_loss_his, label=\"valid\")\n",
    "plt.legend()\n",
    "plt.show()"
   ]
  },
  {
   "cell_type": "code",
   "execution_count": 33,
   "id": "8aae5f77",
   "metadata": {},
   "outputs": [
    {
     "data": {
      "image/png": "[encoded data removed]",
      "text/plain": [
       "<Figure size 432x288 with 1 Axes>"
      ]
     },
     "metadata": {
      "needs_background": "light"
     },
     "output_type": "display_data"
    }
   ],
   "source": [
    "plt.plot(t_acc_his, label=\"train\")\n",
    "plt.plot(v_acc_his, label=\"valid\")\n",
    "plt.legend()\n",
    "plt.show()"
   ]
  },
  {
   "cell_type": "code",
   "execution_count": 34,
   "id": "69a0b230",
   "metadata": {},
   "outputs": [
    {
     "data": {
      "application/vnd.jupyter.widget-view+json": {
       "model_id": "21d8bc199abf4ba09bfaa6d45ce1ba2b",
       "version_major": 2,
       "version_minor": 0
      },
      "text/plain": [
       "  0%|          | 0/313 [00:00<?, ?it/s]"
      ]
     },
     "metadata": {},
     "output_type": "display_data"
    },
    {
     "name": "stdout",
     "output_type": "stream",
     "text": [
      "Test Loss : 0.3141\t accuracy: 88.88%\n",
      "\n"
     ]
    }
   ],
   "source": [
    "v_loss, v_acc = evaluate(model, test_loader)\n",
    "print(\"Test Loss : {:.4f}\\t accuracy: {:.2f}%\\n\".format(v_loss, v_acc*100.))"
   ]
  },
  {
   "cell_type": "markdown",
   "id": "f873af36",
   "metadata": {},
   "source": [
    "### CNN"
   ]
  },
  {
   "cell_type": "code",
   "execution_count": 35,
   "id": "7a51fbe4",
   "metadata": {},
   "outputs": [
    {
     "name": "stdout",
     "output_type": "stream",
     "text": [
      "Device : cuda\n",
      "----------------------------------------------------------------\n",
      "        Layer (type)               Output Shape         Param #\n",
      "================================================================\n",
      "            Conv2d-1            [-1, 8, 28, 28]              80\n",
      "         MaxPool2d-2            [-1, 8, 14, 14]               0\n",
      "         LeakyReLU-3            [-1, 8, 14, 14]               0\n",
      "            Conv2d-4           [-1, 16, 14, 14]           1,168\n",
      "         MaxPool2d-5             [-1, 16, 7, 7]               0\n",
      "         LeakyReLU-6             [-1, 16, 7, 7]               0\n",
      "            Conv2d-7             [-1, 32, 7, 7]           4,640\n",
      "         MaxPool2d-8             [-1, 32, 3, 3]               0\n",
      "         LeakyReLU-9             [-1, 32, 3, 3]               0\n",
      "           Conv2d-10             [-1, 64, 3, 3]          18,496\n",
      "        MaxPool2d-11             [-1, 64, 1, 1]               0\n",
      "        LeakyReLU-12             [-1, 64, 1, 1]               0\n",
      "AdaptiveAvgPool2d-13             [-1, 64, 1, 1]               0\n",
      "           Linear-14                   [-1, 24]           1,560\n",
      "        LeakyReLU-15                   [-1, 24]               0\n",
      "           Linear-16                   [-1, 10]             250\n",
      "================================================================\n",
      "Total params: 26,194\n",
      "Trainable params: 26,194\n",
      "Non-trainable params: 0\n",
      "----------------------------------------------------------------\n",
      "Input size (MB): 0.00\n",
      "Forward/backward pass size (MB): 0.13\n",
      "Params size (MB): 0.10\n",
      "Estimated Total Size (MB): 0.23\n",
      "----------------------------------------------------------------\n"
     ]
    }
   ],
   "source": [
    "USE_CUDA = torch.cuda.is_available()\n",
    "DEVICE = \"cuda\" if USE_CUDA else \"cpu\"\n",
    "\n",
    "model = CNN().to(DEVICE)\n",
    "opt = optim.Adam(model.parameters())\n",
    "\n",
    "print(\"Device :\", DEVICE)\n",
    "summary_(model,(1,28,28), device=DEVICE)"
   ]
  },
  {
   "cell_type": "code",
   "execution_count": 36,
   "id": "bb679840",
   "metadata": {
    "scrolled": true
   },
   "outputs": [
    {
     "name": "stdout",
     "output_type": "stream",
     "text": [
      "<<< EPOCH 1 >>>\n"
     ]
    },
    {
     "data": {
      "application/vnd.jupyter.widget-view+json": {
       "model_id": "845aa3ba44a94b9fa03eee6eb5e97f4f",
       "version_major": 2,
       "version_minor": 0
      },
      "text/plain": [
       "  0%|          | 0/1500 [00:00<?, ?it/s]"
      ]
     },
     "metadata": {},
     "output_type": "display_data"
    },
    {
     "name": "stdout",
     "output_type": "stream",
     "text": [
      "Training : [3200/48000 (7%)]\tLoss: 1.139337\t Acc : 0.024\n",
      "Training : [6400/48000 (13%)]\tLoss: 0.699056\t Acc : 0.067\n",
      "Training : [9600/48000 (20%)]\tLoss: 0.882671\t Acc : 0.112\n",
      "Training : [12800/48000 (27%)]\tLoss: 0.611760\t Acc : 0.159\n",
      "Training : [16000/48000 (33%)]\tLoss: 0.582137\t Acc : 0.208\n",
      "Training : [19200/48000 (40%)]\tLoss: 0.829867\t Acc : 0.258\n",
      "Training : [22400/48000 (47%)]\tLoss: 0.819843\t Acc : 0.307\n",
      "Training : [25600/48000 (53%)]\tLoss: 0.482544\t Acc : 0.358\n",
      "Training : [28800/48000 (60%)]\tLoss: 0.599150\t Acc : 0.409\n",
      "Training : [32000/48000 (67%)]\tLoss: 0.708488\t Acc : 0.461\n",
      "Training : [35200/48000 (73%)]\tLoss: 0.383371\t Acc : 0.513\n",
      "Training : [38400/48000 (80%)]\tLoss: 0.583299\t Acc : 0.565\n",
      "Training : [41600/48000 (87%)]\tLoss: 0.266986\t Acc : 0.619\n",
      "Training : [44800/48000 (93%)]\tLoss: 0.460232\t Acc : 0.673\n"
     ]
    },
    {
     "data": {
      "application/vnd.jupyter.widget-view+json": {
       "model_id": "013875b3325549e997e7c6c8f8f57dd3",
       "version_major": 2,
       "version_minor": 0
      },
      "text/plain": [
       "  0%|          | 0/375 [00:00<?, ?it/s]"
      ]
     },
     "metadata": {},
     "output_type": "display_data"
    },
    {
     "name": "stdout",
     "output_type": "stream",
     "text": [
      "[1] valid Loss : 0.5410\t accuracy: 79.25%\n",
      "\n",
      "\n",
      "<<< EPOCH 2 >>>\n"
     ]
    },
    {
     "data": {
      "application/vnd.jupyter.widget-view+json": {
       "model_id": "5c6b6770f876483293246371ec358896",
       "version_major": 2,
       "version_minor": 0
      },
      "text/plain": [
       "  0%|          | 0/1500 [00:00<?, ?it/s]"
      ]
     },
     "metadata": {},
     "output_type": "display_data"
    },
    {
     "name": "stdout",
     "output_type": "stream",
     "text": [
      "Training : [3200/48000 (7%)]\tLoss: 0.342676\t Acc : 0.055\n",
      "Training : [6400/48000 (13%)]\tLoss: 0.558900\t Acc : 0.109\n",
      "Training : [9600/48000 (20%)]\tLoss: 0.310044\t Acc : 0.164\n",
      "Training : [12800/48000 (27%)]\tLoss: 0.346726\t Acc : 0.219\n",
      "Training : [16000/48000 (33%)]\tLoss: 0.221389\t Acc : 0.275\n",
      "Training : [19200/48000 (40%)]\tLoss: 0.415124\t Acc : 0.330\n",
      "Training : [22400/48000 (47%)]\tLoss: 0.493865\t Acc : 0.386\n",
      "Training : [25600/48000 (53%)]\tLoss: 0.361956\t Acc : 0.442\n",
      "Training : [28800/48000 (60%)]\tLoss: 0.448647\t Acc : 0.499\n",
      "Training : [32000/48000 (67%)]\tLoss: 0.349379\t Acc : 0.555\n",
      "Training : [35200/48000 (73%)]\tLoss: 0.293650\t Acc : 0.611\n",
      "Training : [38400/48000 (80%)]\tLoss: 0.396654\t Acc : 0.668\n",
      "Training : [41600/48000 (87%)]\tLoss: 0.469888\t Acc : 0.725\n",
      "Training : [44800/48000 (93%)]\tLoss: 0.312424\t Acc : 0.781\n"
     ]
    },
    {
     "data": {
      "application/vnd.jupyter.widget-view+json": {
       "model_id": "5afaf025a97d4530860e0f84c0df5d9a",
       "version_major": 2,
       "version_minor": 0
      },
      "text/plain": [
       "  0%|          | 0/375 [00:00<?, ?it/s]"
      ]
     },
     "metadata": {},
     "output_type": "display_data"
    },
    {
     "name": "stdout",
     "output_type": "stream",
     "text": [
      "[2] valid Loss : 0.3919\t accuracy: 85.61%\n",
      "\n",
      "\n",
      "<<< EPOCH 3 >>>\n"
     ]
    },
    {
     "data": {
      "application/vnd.jupyter.widget-view+json": {
       "model_id": "7ed2da80d3014a3c834da74d7c741af9",
       "version_major": 2,
       "version_minor": 0
      },
      "text/plain": [
       "  0%|          | 0/1500 [00:00<?, ?it/s]"
      ]
     },
     "metadata": {},
     "output_type": "display_data"
    },
    {
     "name": "stdout",
     "output_type": "stream",
     "text": [
      "Training : [3200/48000 (7%)]\tLoss: 0.290936\t Acc : 0.058\n",
      "Training : [6400/48000 (13%)]\tLoss: 0.473958\t Acc : 0.116\n",
      "Training : [9600/48000 (20%)]\tLoss: 0.636889\t Acc : 0.173\n",
      "Training : [12800/48000 (27%)]\tLoss: 0.397979\t Acc : 0.230\n",
      "Training : [16000/48000 (33%)]\tLoss: 0.363886\t Acc : 0.287\n",
      "Training : [19200/48000 (40%)]\tLoss: 0.284932\t Acc : 0.344\n",
      "Training : [22400/48000 (47%)]\tLoss: 0.266606\t Acc : 0.401\n",
      "Training : [25600/48000 (53%)]\tLoss: 0.213360\t Acc : 0.459\n",
      "Training : [28800/48000 (60%)]\tLoss: 0.332665\t Acc : 0.516\n",
      "Training : [32000/48000 (67%)]\tLoss: 0.298404\t Acc : 0.573\n",
      "Training : [35200/48000 (73%)]\tLoss: 0.348087\t Acc : 0.631\n",
      "Training : [38400/48000 (80%)]\tLoss: 0.290906\t Acc : 0.688\n",
      "Training : [41600/48000 (87%)]\tLoss: 0.312785\t Acc : 0.745\n",
      "Training : [44800/48000 (93%)]\tLoss: 0.198446\t Acc : 0.803\n"
     ]
    },
    {
     "data": {
      "application/vnd.jupyter.widget-view+json": {
       "model_id": "3bb8db5964c04b609176e88837bc833d",
       "version_major": 2,
       "version_minor": 0
      },
      "text/plain": [
       "  0%|          | 0/375 [00:00<?, ?it/s]"
      ]
     },
     "metadata": {},
     "output_type": "display_data"
    },
    {
     "name": "stdout",
     "output_type": "stream",
     "text": [
      "[3] valid Loss : 0.3655\t accuracy: 86.33%\n",
      "\n",
      "\n",
      "<<< EPOCH 4 >>>\n"
     ]
    },
    {
     "data": {
      "application/vnd.jupyter.widget-view+json": {
       "model_id": "edda486644764bde84b66cba3b56ae68",
       "version_major": 2,
       "version_minor": 0
      },
      "text/plain": [
       "  0%|          | 0/1500 [00:00<?, ?it/s]"
      ]
     },
     "metadata": {},
     "output_type": "display_data"
    },
    {
     "name": "stdout",
     "output_type": "stream",
     "text": [
      "Training : [3200/48000 (7%)]\tLoss: 0.656520\t Acc : 0.059\n",
      "Training : [6400/48000 (13%)]\tLoss: 0.380046\t Acc : 0.116\n",
      "Training : [9600/48000 (20%)]\tLoss: 0.313513\t Acc : 0.175\n",
      "Training : [12800/48000 (27%)]\tLoss: 0.432390\t Acc : 0.232\n",
      "Training : [16000/48000 (33%)]\tLoss: 0.320859\t Acc : 0.291\n",
      "Training : [19200/48000 (40%)]\tLoss: 0.404882\t Acc : 0.349\n",
      "Training : [22400/48000 (47%)]\tLoss: 0.330815\t Acc : 0.407\n",
      "Training : [25600/48000 (53%)]\tLoss: 0.247529\t Acc : 0.465\n",
      "Training : [28800/48000 (60%)]\tLoss: 0.358538\t Acc : 0.523\n",
      "Training : [32000/48000 (67%)]\tLoss: 0.174734\t Acc : 0.581\n",
      "Training : [35200/48000 (73%)]\tLoss: 0.391973\t Acc : 0.640\n",
      "Training : [38400/48000 (80%)]\tLoss: 0.339194\t Acc : 0.699\n",
      "Training : [41600/48000 (87%)]\tLoss: 0.201115\t Acc : 0.757\n",
      "Training : [44800/48000 (93%)]\tLoss: 0.617594\t Acc : 0.816\n"
     ]
    },
    {
     "data": {
      "application/vnd.jupyter.widget-view+json": {
       "model_id": "bcffb3da6aef46c8af81b7f204f39caa",
       "version_major": 2,
       "version_minor": 0
      },
      "text/plain": [
       "  0%|          | 0/375 [00:00<?, ?it/s]"
      ]
     },
     "metadata": {},
     "output_type": "display_data"
    },
    {
     "name": "stdout",
     "output_type": "stream",
     "text": [
      "[4] valid Loss : 0.3604\t accuracy: 86.79%\n",
      "\n",
      "\n",
      "<<< EPOCH 5 >>>\n"
     ]
    },
    {
     "data": {
      "application/vnd.jupyter.widget-view+json": {
       "model_id": "20ec339af62c4af7b0427e8e79e91519",
       "version_major": 2,
       "version_minor": 0
      },
      "text/plain": [
       "  0%|          | 0/1500 [00:00<?, ?it/s]"
      ]
     },
     "metadata": {},
     "output_type": "display_data"
    },
    {
     "name": "stdout",
     "output_type": "stream",
     "text": [
      "Training : [3200/48000 (7%)]\tLoss: 0.303398\t Acc : 0.060\n",
      "Training : [6400/48000 (13%)]\tLoss: 0.539834\t Acc : 0.119\n",
      "Training : [9600/48000 (20%)]\tLoss: 0.611136\t Acc : 0.178\n",
      "Training : [12800/48000 (27%)]\tLoss: 0.461850\t Acc : 0.236\n",
      "Training : [16000/48000 (33%)]\tLoss: 0.272697\t Acc : 0.295\n",
      "Training : [19200/48000 (40%)]\tLoss: 0.324083\t Acc : 0.354\n",
      "Training : [22400/48000 (47%)]\tLoss: 0.119044\t Acc : 0.413\n",
      "Training : [25600/48000 (53%)]\tLoss: 0.290538\t Acc : 0.472\n",
      "Training : [28800/48000 (60%)]\tLoss: 0.244530\t Acc : 0.531\n",
      "Training : [32000/48000 (67%)]\tLoss: 0.226217\t Acc : 0.589\n",
      "Training : [35200/48000 (73%)]\tLoss: 0.281956\t Acc : 0.648\n",
      "Training : [38400/48000 (80%)]\tLoss: 0.396937\t Acc : 0.707\n",
      "Training : [41600/48000 (87%)]\tLoss: 0.414904\t Acc : 0.766\n",
      "Training : [44800/48000 (93%)]\tLoss: 0.213005\t Acc : 0.825\n"
     ]
    },
    {
     "data": {
      "application/vnd.jupyter.widget-view+json": {
       "model_id": "6b863422a1584e11a5e6defb005a5e7a",
       "version_major": 2,
       "version_minor": 0
      },
      "text/plain": [
       "  0%|          | 0/375 [00:00<?, ?it/s]"
      ]
     },
     "metadata": {},
     "output_type": "display_data"
    },
    {
     "name": "stdout",
     "output_type": "stream",
     "text": [
      "[5] valid Loss : 0.3243\t accuracy: 87.98%\n",
      "\n",
      "\n",
      "<<< EPOCH 6 >>>\n"
     ]
    },
    {
     "data": {
      "application/vnd.jupyter.widget-view+json": {
       "model_id": "f85929afea6a4a1d90a4b44101c3ad9d",
       "version_major": 2,
       "version_minor": 0
      },
      "text/plain": [
       "  0%|          | 0/1500 [00:00<?, ?it/s]"
      ]
     },
     "metadata": {},
     "output_type": "display_data"
    },
    {
     "name": "stdout",
     "output_type": "stream",
     "text": [
      "Training : [3200/48000 (7%)]\tLoss: 0.107351\t Acc : 0.060\n",
      "Training : [6400/48000 (13%)]\tLoss: 0.238162\t Acc : 0.119\n",
      "Training : [9600/48000 (20%)]\tLoss: 0.204964\t Acc : 0.178\n",
      "Training : [12800/48000 (27%)]\tLoss: 0.206083\t Acc : 0.237\n",
      "Training : [16000/48000 (33%)]\tLoss: 0.461112\t Acc : 0.297\n",
      "Training : [19200/48000 (40%)]\tLoss: 0.575618\t Acc : 0.355\n",
      "Training : [22400/48000 (47%)]\tLoss: 0.237697\t Acc : 0.415\n",
      "Training : [25600/48000 (53%)]\tLoss: 0.216556\t Acc : 0.474\n",
      "Training : [28800/48000 (60%)]\tLoss: 0.291472\t Acc : 0.533\n",
      "Training : [32000/48000 (67%)]\tLoss: 0.358585\t Acc : 0.592\n",
      "Training : [35200/48000 (73%)]\tLoss: 0.251310\t Acc : 0.651\n",
      "Training : [38400/48000 (80%)]\tLoss: 0.135977\t Acc : 0.711\n",
      "Training : [41600/48000 (87%)]\tLoss: 0.439335\t Acc : 0.770\n",
      "Training : [44800/48000 (93%)]\tLoss: 0.362051\t Acc : 0.829\n"
     ]
    },
    {
     "data": {
      "application/vnd.jupyter.widget-view+json": {
       "model_id": "4f6579db37a144ac885804ec60aea527",
       "version_major": 2,
       "version_minor": 0
      },
      "text/plain": [
       "  0%|          | 0/375 [00:00<?, ?it/s]"
      ]
     },
     "metadata": {},
     "output_type": "display_data"
    },
    {
     "name": "stdout",
     "output_type": "stream",
     "text": [
      "[6] valid Loss : 0.3448\t accuracy: 87.84%\n",
      "\n",
      "\n",
      "<<< EPOCH 7 >>>\n"
     ]
    },
    {
     "data": {
      "application/vnd.jupyter.widget-view+json": {
       "model_id": "f8aafbca2d6a4dce82500420d849dfb1",
       "version_major": 2,
       "version_minor": 0
      },
      "text/plain": [
       "  0%|          | 0/1500 [00:00<?, ?it/s]"
      ]
     },
     "metadata": {},
     "output_type": "display_data"
    },
    {
     "name": "stdout",
     "output_type": "stream",
     "text": [
      "Training : [3200/48000 (7%)]\tLoss: 0.090148\t Acc : 0.060\n",
      "Training : [6400/48000 (13%)]\tLoss: 0.219324\t Acc : 0.120\n",
      "Training : [9600/48000 (20%)]\tLoss: 0.232219\t Acc : 0.180\n",
      "Training : [12800/48000 (27%)]\tLoss: 0.175259\t Acc : 0.240\n",
      "Training : [16000/48000 (33%)]\tLoss: 0.396096\t Acc : 0.300\n",
      "Training : [19200/48000 (40%)]\tLoss: 0.209739\t Acc : 0.359\n",
      "Training : [22400/48000 (47%)]\tLoss: 0.276469\t Acc : 0.418\n",
      "Training : [25600/48000 (53%)]\tLoss: 0.152734\t Acc : 0.478\n",
      "Training : [28800/48000 (60%)]\tLoss: 0.520134\t Acc : 0.538\n",
      "Training : [32000/48000 (67%)]\tLoss: 0.406465\t Acc : 0.597\n",
      "Training : [35200/48000 (73%)]\tLoss: 0.148253\t Acc : 0.657\n",
      "Training : [38400/48000 (80%)]\tLoss: 0.389092\t Acc : 0.716\n",
      "Training : [41600/48000 (87%)]\tLoss: 0.284409\t Acc : 0.775\n",
      "Training : [44800/48000 (93%)]\tLoss: 0.227030\t Acc : 0.834\n"
     ]
    },
    {
     "data": {
      "application/vnd.jupyter.widget-view+json": {
       "model_id": "bee8950fab6a43179b8005dd3c260ab0",
       "version_major": 2,
       "version_minor": 0
      },
      "text/plain": [
       "  0%|          | 0/375 [00:00<?, ?it/s]"
      ]
     },
     "metadata": {},
     "output_type": "display_data"
    },
    {
     "name": "stdout",
     "output_type": "stream",
     "text": [
      "[7] valid Loss : 0.3175\t accuracy: 88.30%\n",
      "\n",
      "\n",
      "<<< EPOCH 8 >>>\n"
     ]
    },
    {
     "data": {
      "application/vnd.jupyter.widget-view+json": {
       "model_id": "99efbc2d05a149e38e82e996186a8aad",
       "version_major": 2,
       "version_minor": 0
      },
      "text/plain": [
       "  0%|          | 0/1500 [00:00<?, ?it/s]"
      ]
     },
     "metadata": {},
     "output_type": "display_data"
    },
    {
     "name": "stdout",
     "output_type": "stream",
     "text": [
      "Training : [3200/48000 (7%)]\tLoss: 0.179836\t Acc : 0.060\n",
      "Training : [6400/48000 (13%)]\tLoss: 0.333029\t Acc : 0.120\n",
      "Training : [9600/48000 (20%)]\tLoss: 0.420319\t Acc : 0.180\n",
      "Training : [12800/48000 (27%)]\tLoss: 0.345926\t Acc : 0.239\n",
      "Training : [16000/48000 (33%)]\tLoss: 0.516230\t Acc : 0.299\n",
      "Training : [19200/48000 (40%)]\tLoss: 0.321958\t Acc : 0.359\n",
      "Training : [22400/48000 (47%)]\tLoss: 0.471851\t Acc : 0.419\n",
      "Training : [25600/48000 (53%)]\tLoss: 0.242339\t Acc : 0.479\n",
      "Training : [28800/48000 (60%)]\tLoss: 0.140956\t Acc : 0.538\n",
      "Training : [32000/48000 (67%)]\tLoss: 0.177980\t Acc : 0.599\n",
      "Training : [35200/48000 (73%)]\tLoss: 0.249231\t Acc : 0.659\n",
      "Training : [38400/48000 (80%)]\tLoss: 0.268834\t Acc : 0.719\n",
      "Training : [41600/48000 (87%)]\tLoss: 0.221771\t Acc : 0.778\n",
      "Training : [44800/48000 (93%)]\tLoss: 0.229986\t Acc : 0.837\n"
     ]
    },
    {
     "data": {
      "application/vnd.jupyter.widget-view+json": {
       "model_id": "0c2fecb0f570478aa93d01925fbf148d",
       "version_major": 2,
       "version_minor": 0
      },
      "text/plain": [
       "  0%|          | 0/375 [00:00<?, ?it/s]"
      ]
     },
     "metadata": {},
     "output_type": "display_data"
    },
    {
     "name": "stdout",
     "output_type": "stream",
     "text": [
      "[8] valid Loss : 0.3067\t accuracy: 89.06%\n",
      "\n",
      "\n",
      "<<< EPOCH 9 >>>\n"
     ]
    },
    {
     "data": {
      "application/vnd.jupyter.widget-view+json": {
       "model_id": "033d3061c9ea40b78a65ba33f2e7b568",
       "version_major": 2,
       "version_minor": 0
      },
      "text/plain": [
       "  0%|          | 0/1500 [00:00<?, ?it/s]"
      ]
     },
     "metadata": {},
     "output_type": "display_data"
    },
    {
     "name": "stdout",
     "output_type": "stream",
     "text": [
      "Training : [3200/48000 (7%)]\tLoss: 0.225590\t Acc : 0.061\n",
      "Training : [6400/48000 (13%)]\tLoss: 0.392612\t Acc : 0.121\n",
      "Training : [9600/48000 (20%)]\tLoss: 0.226053\t Acc : 0.182\n",
      "Training : [12800/48000 (27%)]\tLoss: 0.237181\t Acc : 0.242\n",
      "Training : [16000/48000 (33%)]\tLoss: 0.444444\t Acc : 0.302\n",
      "Training : [19200/48000 (40%)]\tLoss: 0.230686\t Acc : 0.362\n",
      "Training : [22400/48000 (47%)]\tLoss: 0.036054\t Acc : 0.423\n",
      "Training : [25600/48000 (53%)]\tLoss: 0.410710\t Acc : 0.483\n",
      "Training : [28800/48000 (60%)]\tLoss: 0.154327\t Acc : 0.544\n",
      "Training : [32000/48000 (67%)]\tLoss: 0.187334\t Acc : 0.604\n",
      "Training : [35200/48000 (73%)]\tLoss: 0.164887\t Acc : 0.665\n",
      "Training : [38400/48000 (80%)]\tLoss: 0.161008\t Acc : 0.724\n",
      "Training : [41600/48000 (87%)]\tLoss: 0.235110\t Acc : 0.785\n",
      "Training : [44800/48000 (93%)]\tLoss: 0.243901\t Acc : 0.844\n"
     ]
    },
    {
     "data": {
      "application/vnd.jupyter.widget-view+json": {
       "model_id": "90cc979d9b8348a68b95dde225b0b2da",
       "version_major": 2,
       "version_minor": 0
      },
      "text/plain": [
       "  0%|          | 0/375 [00:00<?, ?it/s]"
      ]
     },
     "metadata": {},
     "output_type": "display_data"
    },
    {
     "name": "stdout",
     "output_type": "stream",
     "text": [
      "[9] valid Loss : 0.3195\t accuracy: 88.60%\n",
      "\n",
      "\n",
      "<<< EPOCH 10 >>>\n"
     ]
    },
    {
     "data": {
      "application/vnd.jupyter.widget-view+json": {
       "model_id": "d436dd3b4a3943c0ba62625ff3dc9b28",
       "version_major": 2,
       "version_minor": 0
      },
      "text/plain": [
       "  0%|          | 0/1500 [00:00<?, ?it/s]"
      ]
     },
     "metadata": {},
     "output_type": "display_data"
    },
    {
     "name": "stdout",
     "output_type": "stream",
     "text": [
      "Training : [3200/48000 (7%)]\tLoss: 0.082751\t Acc : 0.061\n",
      "Training : [6400/48000 (13%)]\tLoss: 0.141873\t Acc : 0.121\n",
      "Training : [9600/48000 (20%)]\tLoss: 0.196526\t Acc : 0.182\n",
      "Training : [12800/48000 (27%)]\tLoss: 0.319001\t Acc : 0.243\n",
      "Training : [16000/48000 (33%)]\tLoss: 0.116227\t Acc : 0.304\n",
      "Training : [19200/48000 (40%)]\tLoss: 0.217069\t Acc : 0.364\n",
      "Training : [22400/48000 (47%)]\tLoss: 0.255308\t Acc : 0.425\n",
      "Training : [25600/48000 (53%)]\tLoss: 0.192816\t Acc : 0.485\n",
      "Training : [28800/48000 (60%)]\tLoss: 0.200121\t Acc : 0.545\n",
      "Training : [32000/48000 (67%)]\tLoss: 0.373789\t Acc : 0.606\n",
      "Training : [35200/48000 (73%)]\tLoss: 0.265773\t Acc : 0.666\n",
      "Training : [38400/48000 (80%)]\tLoss: 0.250911\t Acc : 0.726\n",
      "Training : [41600/48000 (87%)]\tLoss: 0.254964\t Acc : 0.786\n",
      "Training : [44800/48000 (93%)]\tLoss: 0.157439\t Acc : 0.847\n"
     ]
    },
    {
     "data": {
      "application/vnd.jupyter.widget-view+json": {
       "model_id": "77bed13792c8478894419fe6c625ed57",
       "version_major": 2,
       "version_minor": 0
      },
      "text/plain": [
       "  0%|          | 0/375 [00:00<?, ?it/s]"
      ]
     },
     "metadata": {},
     "output_type": "display_data"
    },
    {
     "name": "stdout",
     "output_type": "stream",
     "text": [
      "[10] valid Loss : 0.2796\t accuracy: 89.85%\n",
      "\n",
      "\n"
     ]
    }
   ],
   "source": [
    "# 학습 시작 #\n",
    "t_loss_his, t_acc_his, v_loss_his, v_acc_his = train(EPOCHS = 10, model = model, train_loader = train_loader, opt = opt)"
   ]
  },
  {
   "cell_type": "code",
   "execution_count": 37,
   "id": "93598ba5",
   "metadata": {},
   "outputs": [
    {
     "data": {
      "image/png": "[encoded data removed]",
      "text/plain": [
       "<Figure size 432x288 with 1 Axes>"
      ]
     },
     "metadata": {
      "needs_background": "light"
     },
     "output_type": "display_data"
    }
   ],
   "source": [
    "plt.plot(t_loss_his, label=\"train\")\n",
    "plt.plot(v_loss_his, label=\"valid\")\n",
    "plt.legend()\n",
    "plt.show()"
   ]
  },
  {
   "cell_type": "code",
   "execution_count": 38,
   "id": "54e367b6",
   "metadata": {},
   "outputs": [
    {
     "data": {
      "image/png": "[encoded data removed]",
      "text/plain": [
       "<Figure size 432x288 with 1 Axes>"
      ]
     },
     "metadata": {
      "needs_background": "light"
     },
     "output_type": "display_data"
    }
   ],
   "source": [
    "plt.plot(t_acc_his, label=\"train\")\n",
    "plt.plot(v_acc_his, label=\"valid\")\n",
    "plt.legend()\n",
    "plt.show()"
   ]
  },
  {
   "cell_type": "code",
   "execution_count": 39,
   "id": "e414a6eb",
   "metadata": {},
   "outputs": [
    {
     "data": {
      "application/vnd.jupyter.widget-view+json": {
       "model_id": "2dbe274ca61c442a80b6979efe227b70",
       "version_major": 2,
       "version_minor": 0
      },
      "text/plain": [
       "  0%|          | 0/313 [00:00<?, ?it/s]"
      ]
     },
     "metadata": {},
     "output_type": "display_data"
    },
    {
     "name": "stdout",
     "output_type": "stream",
     "text": [
      "Test Loss : 0.2746\t accuracy: 89.97%\n",
      "\n"
     ]
    }
   ],
   "source": [
    "v_loss, v_acc = evaluate(model, test_loader)\n",
    "print(\"Test Loss : {:.4f}\\t accuracy: {:.2f}%\\n\".format(v_loss, v_acc*100.))"
   ]
  },
  {
   "cell_type": "code",
   "execution_count": null,
   "id": "39cf3c86",
   "metadata": {},
   "outputs": [],
   "source": []
  }
 ],
 "metadata": {
  "kernelspec": {
   "display_name": "JSY_GPU",
   "language": "python",
   "name": "jsy_gpu"
  },
  "language_info": {
   "codemirror_mode": {
    "name": "ipython",
    "version": 3
   },
   "file_extension": ".py",
   "mimetype": "text/x-python",
   "name": "python",
   "nbconvert_exporter": "python",
   "pygments_lexer": "ipython3",
   "version": "3.7.11"
  }
 },
 "nbformat": 4,
 "nbformat_minor": 5
}
