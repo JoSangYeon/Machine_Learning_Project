{
 "cells": [
  {
   "cell_type": "markdown",
   "id": "dbf31178",
   "metadata": {},
   "source": [
    "# 퍼셉트론"
   ]
  },
  {
   "cell_type": "markdown",
   "id": "6c8472de",
   "metadata": {},
   "source": [
    "## 퍼셉트론 구조\n",
    "![image](https://user-images.githubusercontent.com/28241676/146882607-3f7bd4ab-9ab2-46a6-bb6e-f5d08d490932.png)\n",
    "![image](https://user-images.githubusercontent.com/28241676/146882697-392e505f-09a6-44ca-b68a-d90874501556.png)\n",
    "![image](https://user-images.githubusercontent.com/28241676/146882685-5cee5ae4-3b64-408b-a38b-937eecc9cf5d.png)"
   ]
  },
  {
   "cell_type": "code",
   "execution_count": 2,
   "id": "8d9d3615",
   "metadata": {},
   "outputs": [],
   "source": [
    "import numpy as np"
   ]
  },
  {
   "cell_type": "code",
   "execution_count": 3,
   "id": "c3f97b5f",
   "metadata": {},
   "outputs": [],
   "source": [
    "X = np.array([[1, 0, 0],\n",
    "              [1, 1, 0],\n",
    "              [1, 0, 1],\n",
    "              [1, 1, 1]])\n",
    "Y = np.array([-1, 1, 1, 1])\n",
    "W = np.array([-0.5, 1.0, 1.0])\n",
    "\n",
    "act_fn = lambda x : np.array([1 if o >= 0 else -1 for o in x])"
   ]
  },
  {
   "cell_type": "code",
   "execution_count": 4,
   "id": "a0e7f3bf",
   "metadata": {},
   "outputs": [
    {
     "data": {
      "text/plain": [
       "array([-1,  1,  1,  1])"
      ]
     },
     "execution_count": 4,
     "metadata": {},
     "output_type": "execute_result"
    }
   ],
   "source": [
    "output = act_fn(np.dot(X, W.T))\n",
    "output"
   ]
  },
  {
   "cell_type": "code",
   "execution_count": 6,
   "id": "209dfd9c",
   "metadata": {},
   "outputs": [
    {
     "data": {
      "text/plain": [
       "array([ True,  True,  True,  True])"
      ]
     },
     "execution_count": 6,
     "metadata": {},
     "output_type": "execute_result"
    }
   ],
   "source": [
    "output == Y"
   ]
  },
  {
   "cell_type": "markdown",
   "id": "6e4e0c1b",
   "metadata": {},
   "source": [
    "## 퍼셉트론 학습"
   ]
  },
  {
   "cell_type": "markdown",
   "id": "fe69ad06",
   "metadata": {},
   "source": [
    "![image](https://user-images.githubusercontent.com/28241676/146883746-89317b9b-8674-4cf8-9e0f-f087d49f5e0a.png)"
   ]
  },
  {
   "cell_type": "markdown",
   "id": "74378e1e",
   "metadata": {},
   "source": [
    "# 다층 퍼셉트론"
   ]
  },
  {
   "cell_type": "markdown",
   "id": "ae978574",
   "metadata": {},
   "source": [
    "![image](https://user-images.githubusercontent.com/28241676/146884052-da83d74e-e397-421e-ba77-ab793f902a8a.png)\n",
    "![image](https://user-images.githubusercontent.com/28241676/146884207-e536a79d-fdb3-41d2-a956-c9ac2f2fb36e.png)"
   ]
  },
  {
   "cell_type": "code",
   "execution_count": 28,
   "id": "089ff4f0",
   "metadata": {},
   "outputs": [],
   "source": [
    "X = np.array([[1, 0, 0],\n",
    "              [1, 1, 0],\n",
    "              [1, 0, 1],\n",
    "              [1, 1, 1]])\n",
    "Y = np.array([-1, 1, 1, -1])\n",
    "W1 = np.array([[-0.5, 1.0, 1.0],\n",
    "               [1.5, -1., -1.0]])\n",
    "W2 = np.array([-1., 1.0, 1.0])\n",
    "\n",
    "act_fn1 = lambda x : np.array([[1. if o >= 0. else -1 for o in h]for h in x])\n",
    "act_fn2 = lambda x : np.array([1 if o >= 0 else -1 for o in x])"
   ]
  },
  {
   "cell_type": "code",
   "execution_count": 29,
   "id": "0209b3c3",
   "metadata": {},
   "outputs": [
    {
     "data": {
      "text/plain": [
       "array([[ 1., -1.,  1.],\n",
       "       [ 1.,  1.,  1.],\n",
       "       [ 1.,  1.,  1.],\n",
       "       [ 1.,  1., -1.]])"
      ]
     },
     "execution_count": 29,
     "metadata": {},
     "output_type": "execute_result"
    }
   ],
   "source": [
    "hidden_z = act_fn1(np.dot(X, W1.T))\n",
    "hidden_z = np.append(np.array([[1],[1],[1],[1]]), hidden_z, axis=1)\n",
    "hidden_z"
   ]
  },
  {
   "cell_type": "code",
   "execution_count": 30,
   "id": "2eaaaff4",
   "metadata": {},
   "outputs": [
    {
     "data": {
      "text/plain": [
       "array([-1,  1,  1, -1])"
      ]
     },
     "execution_count": 30,
     "metadata": {},
     "output_type": "execute_result"
    }
   ],
   "source": [
    "output = act_fn2(np.dot(hidden_z, W2.T))\n",
    "output"
   ]
  },
  {
   "cell_type": "code",
   "execution_count": 31,
   "id": "3217d1ea",
   "metadata": {},
   "outputs": [
    {
     "data": {
      "text/plain": [
       "array([ True,  True,  True,  True])"
      ]
     },
     "execution_count": 31,
     "metadata": {},
     "output_type": "execute_result"
    }
   ],
   "source": [
    "output == Y"
   ]
  }
 ],
 "metadata": {
  "kernelspec": {
   "display_name": "JSY_GPU",
   "language": "python",
   "name": "jsy_gpu"
  },
  "language_info": {
   "codemirror_mode": {
    "name": "ipython",
    "version": 3
   },
   "file_extension": ".py",
   "mimetype": "text/x-python",
   "name": "python",
   "nbconvert_exporter": "python",
   "pygments_lexer": "ipython3",
   "version": "3.7.11"
  }
 },
 "nbformat": 4,
 "nbformat_minor": 5
}
