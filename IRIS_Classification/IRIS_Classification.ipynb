{
 "cells": [
  {
   "cell_type": "markdown",
   "id": "d848505a",
   "metadata": {},
   "source": [
    "# IRIS(붓꽃) Classification"
   ]
  },
  {
   "cell_type": "markdown",
   "id": "47ffe955",
   "metadata": {},
   "source": [
    "## 필요 패키지 import"
   ]
  },
  {
   "cell_type": "code",
   "execution_count": 1,
   "id": "759434bf",
   "metadata": {},
   "outputs": [
    {
     "name": "stdout",
     "output_type": "stream",
     "text": [
      "1.10.1\n",
      "True\n",
      "cuda\n"
     ]
    }
   ],
   "source": [
    "import numpy as np\n",
    "import pandas as pd\n",
    "import matplotlib.pyplot as plt\n",
    "\n",
    "import torch\n",
    "import torch.nn as nn\n",
    "import torch.nn.functional as F\n",
    "import torch.optim as optim\n",
    "from torch.utils.data import Dataset, DataLoader\n",
    "\n",
    "from tqdm import tqdm, notebook\n",
    "\n",
    "DEVICE = torch.device(\"cuda\" if torch.cuda.is_available() else \"cpu\")\n",
    "\n",
    "print(torch.__version__)\n",
    "print(torch.cuda.is_available())\n",
    "print(DEVICE)"
   ]
  },
  {
   "cell_type": "markdown",
   "id": "db5cddda",
   "metadata": {},
   "source": [
    "## 데이터 살펴보기"
   ]
  },
  {
   "cell_type": "code",
   "execution_count": 2,
   "id": "92e1c2ee",
   "metadata": {},
   "outputs": [
    {
     "data": {
      "text/plain": [
       "dict_keys(['data', 'target', 'frame', 'target_names', 'DESCR', 'feature_names', 'filename', 'data_module'])"
      ]
     },
     "execution_count": 2,
     "metadata": {},
     "output_type": "execute_result"
    }
   ],
   "source": [
    "from sklearn.datasets import load_iris\n",
    "\n",
    "data = load_iris()\n",
    "data.keys()"
   ]
  },
  {
   "cell_type": "code",
   "execution_count": 3,
   "id": "5fa027a8",
   "metadata": {
    "scrolled": true
   },
   "outputs": [
    {
     "name": "stdout",
     "output_type": "stream",
     "text": [
      "[[5.1 3.5 1.4 0.2]\n",
      " [4.9 3.  1.4 0.2]\n",
      " [4.7 3.2 1.3 0.2]\n",
      " [4.6 3.1 1.5 0.2]\n",
      " [5.  3.6 1.4 0.2]]\n",
      "[0 0 0 0 0]\n",
      "['setosa' 'versicolor' 'virginica']\n",
      "3\n"
     ]
    }
   ],
   "source": [
    "# Feature와 Label로 구분\n",
    "X = data['data']\n",
    "Y = data['target']\n",
    "label_name = data['target_names']\n",
    "n_classes = max(Y)+1\n",
    "\n",
    "print(X[:5])\n",
    "print(Y[:5])\n",
    "print(label_name)\n",
    "print(n_classes)"
   ]
  },
  {
   "cell_type": "code",
   "execution_count": 4,
   "id": "4021bc31",
   "metadata": {},
   "outputs": [
    {
     "name": "stdout",
     "output_type": "stream",
     "text": [
      "(150, 3)\n"
     ]
    }
   ],
   "source": [
    "# Y값 one_Hot Encoding\n",
    "n = np.unique(Y, axis=0).shape[0]\n",
    "Y = np.eye(n)[Y]\n",
    "\n",
    "print(Y.shape)"
   ]
  },
  {
   "cell_type": "code",
   "execution_count": 5,
   "id": "50384f38",
   "metadata": {},
   "outputs": [
    {
     "name": "stdout",
     "output_type": "stream",
     "text": [
      "Train Feature Shape : (127, 4)\n",
      "Train Label Shape : (127, 3)\n",
      "Valid Feature Shape : (23, 4)\n",
      "Valid Label Shape : (23, 3)\n"
     ]
    }
   ],
   "source": [
    "# Train, Valid Dataset 분리\n",
    "from sklearn.model_selection import train_test_split\n",
    "train_x, valid_x, train_y, valid_y = train_test_split(X, Y, stratify = Y, random_state = 17, test_size = 0.15)\n",
    "print(\"Train Feature Shape : {}\".format(train_x.shape))\n",
    "print(\"Train Label Shape : {}\".format(train_y.shape))\n",
    "print(\"Valid Feature Shape : {}\".format(valid_x.shape))\n",
    "print(\"Valid Label Shape : {}\".format(valid_y.shape))"
   ]
  },
  {
   "cell_type": "code",
   "execution_count": 6,
   "id": "1a2dbac4",
   "metadata": {
    "scrolled": true
   },
   "outputs": [
    {
     "name": "stdout",
     "output_type": "stream",
     "text": [
      "Train Feature Shape : torch.Size([127, 4])\n",
      "Train Label Shape : torch.Size([127, 3])\n",
      "Valid Feature Shape : torch.Size([23, 4])\n",
      "Valid Label Shape : torch.Size([23, 3])\n"
     ]
    }
   ],
   "source": [
    "# array to Tensor\n",
    "train_x = torch.tensor(train_x)\n",
    "train_y = torch.tensor(train_y)\n",
    "valid_x = torch.tensor(valid_x)\n",
    "valid_y = torch.tensor(valid_y)\n",
    "\n",
    "print(\"Train Feature Shape : {}\".format(train_x.shape))\n",
    "print(\"Train Label Shape : {}\".format(train_y.shape))\n",
    "print(\"Valid Feature Shape : {}\".format(valid_x.shape))\n",
    "print(\"Valid Label Shape : {}\".format(valid_y.shape))"
   ]
  },
  {
   "cell_type": "markdown",
   "id": "1400e200",
   "metadata": {},
   "source": [
    "## Dataset 정의"
   ]
  },
  {
   "cell_type": "code",
   "execution_count": 7,
   "id": "cd7fad78",
   "metadata": {},
   "outputs": [
    {
     "name": "stdout",
     "output_type": "stream",
     "text": [
      "<torch.utils.data.dataloader.DataLoader object at 0x0000020186E45AC8>\n",
      "<torch.utils.data.dataloader.DataLoader object at 0x0000020186E45A48>\n"
     ]
    }
   ],
   "source": [
    "class MyDataset(Dataset):\n",
    "    def __init__(self, x_data, y_data):\n",
    "        self.x = x_data\n",
    "        self.y = y_data\n",
    "    \n",
    "    def __len__(self):\n",
    "        return len(self.x)\n",
    "    \n",
    "    def __getitem__(self, idx):\n",
    "        xx = self.x[idx].float()\n",
    "        yy = self.y[idx].float()\n",
    "        return xx, yy\n",
    "    \n",
    "train = MyDataset(train_x, train_y)\n",
    "valid = MyDataset(valid_x, valid_y)\n",
    "\n",
    "train_loader = DataLoader(train, batch_size = 4, shuffle=True)\n",
    "valid_loader = DataLoader(valid, batch_size = 2)\n",
    "\n",
    "print(train_loader)\n",
    "print(valid_loader)"
   ]
  },
  {
   "cell_type": "markdown",
   "id": "c644d6f6",
   "metadata": {},
   "source": [
    "## 훈련 & 검증 함수 정의"
   ]
  },
  {
   "cell_type": "code",
   "execution_count": 8,
   "id": "1865be62",
   "metadata": {},
   "outputs": [],
   "source": [
    "loss_fn = nn.CrossEntropyLoss()\n",
    "\n",
    "def calc_acc(X, Y):\n",
    "    x_val, x_idx = torch.max(X, dim=1)\n",
    "    y_val, y_idx = torch.max(Y, dim=1)\n",
    "    return (x_idx == y_idx).sum().item()\n",
    "\n",
    "def train(EPOCHS, model, train_loader, valid_loader, opt):\n",
    "    train_loss_history = []\n",
    "    valid_loss_history = []\n",
    "    train_acc_history = []\n",
    "    valid_acc_history = []\n",
    "    for epoch in range(1, EPOCHS+1):\n",
    "        model.train()\n",
    "        train_acc = 0\n",
    "        print(\"<<< EPOCH {} >>>\".format(epoch))\n",
    "        for batch_idx, (x,y) in enumerate(notebook.tqdm(train_loader)):\n",
    "            x, y = x.to(DEVICE), y.to(DEVICE)\n",
    "            \n",
    "            output = model(x)                 # 순전파\n",
    "            loss = loss_fn(output, y)         # 오차 계산\n",
    "\n",
    "            opt.zero_grad()                   # opt내부 값 초기화\n",
    "            loss.backward()                   # 오차 역전파\n",
    "            opt.step()                        # 가중치 갱신\n",
    "            \n",
    "            train_acc += calc_acc(output, y)\n",
    "            if batch_idx % 10 == 0 and batch_idx != 0:\n",
    "                print(\"Training : [{}/{} ({:.0f}%)]\\tLoss: {:.6f}\\t Acc : {:.3f}\".format(\n",
    "                    batch_idx * len(x), \n",
    "                    len(train_loader.dataset), \n",
    "                    100. * batch_idx / len(train_loader), \n",
    "                    loss.item(),\n",
    "                    train_acc / len(train_loader.dataset)))\n",
    "        print(\"\\n{} Training : Loss: {:.6f}\\t Acc : {:.3f}\".format(\n",
    "                    epoch,  \n",
    "                    loss.item(),\n",
    "                    train_acc / len(train_loader.dataset)))\n",
    "        \n",
    "        t_loss, t_acc = evaluate(model, valid_loader)\n",
    "        print(\"{} Validation : Loss : {:.4f}\\t Acc: {:.2f}%\\n\\n\\n\".format(epoch, t_loss, t_acc*100.))\n",
    "\n",
    "        train_loss_history.append(loss.item())\n",
    "        train_acc_history.append(train_acc / len(train_loader.dataset))\n",
    "\n",
    "        valid_loss_history.append(t_loss.item())\n",
    "        valid_acc_history.append(t_acc)\n",
    "\n",
    "    return train_loss_history, train_acc_history, valid_loss_history, valid_acc_history\n",
    "                \n",
    "def evaluate(model, valid_loader):\n",
    "    model.eval()\n",
    "    t_loss = 0\n",
    "    correct = 0\n",
    "    \n",
    "    with torch.no_grad():\n",
    "        for x, y in notebook.tqdm(valid_loader):\n",
    "            x, y = x.to(DEVICE), y.to(DEVICE)\n",
    "            \n",
    "            output = model(x)\n",
    "            t_loss += loss_fn(output, y)\n",
    "            \n",
    "            correct += calc_acc(output, y)\n",
    "\n",
    "    t_loss /= len(valid_loader)\n",
    "    t_acc = correct / len(valid_loader.dataset)\n",
    "    return t_loss, t_acc"
   ]
  },
  {
   "cell_type": "markdown",
   "id": "b2f2181d",
   "metadata": {},
   "source": [
    "## 모델 정의"
   ]
  },
  {
   "cell_type": "code",
   "execution_count": 9,
   "id": "9fd54f93",
   "metadata": {},
   "outputs": [],
   "source": [
    "class MyModel1(nn.Module):\n",
    "    def __init__(self):\n",
    "        super(MyModel1, self).__init__()\n",
    "        \n",
    "        self.fc1 = nn.Linear(4, 16)\n",
    "        self.fc2 = nn.Linear(16, 8)\n",
    "        self.fc3 = nn.Linear(8, n_classes)\n",
    "        \n",
    "        self.act_fn = nn.ReLU()\n",
    "        \n",
    "    def forward(self, x):\n",
    "        x = self.fc1(x)\n",
    "        x = self.act_fn(x)\n",
    "        \n",
    "        x = self.fc2(x)\n",
    "        x = self.act_fn(x)\n",
    "        \n",
    "        x = self.fc3(x)\n",
    "        return x"
   ]
  },
  {
   "cell_type": "code",
   "execution_count": 10,
   "id": "1df8cf22",
   "metadata": {},
   "outputs": [],
   "source": [
    "class MyModel2(nn.Module):\n",
    "    def __init__(self):\n",
    "        super(MyModel2, self).__init__()\n",
    "        \n",
    "        self.fc1 = nn.Linear(4, 16*4)\n",
    "        \n",
    "        self.Q = nn.Linear(16, 8)\n",
    "        self.K = nn.Linear(16, 8)\n",
    "        self.V = nn.Linear(16, 8)\n",
    "        \n",
    "        self.fc2 = nn.Linear(32, 8)\n",
    "        self.fc3 = nn.Linear(8, n_classes)\n",
    "        \n",
    "        self.act_fn = nn.ReLU()\n",
    "        self.softmax = nn.Softmax(dim=-1)\n",
    "        \n",
    "    def forward(self, x):\n",
    "        x = self.fc1(x)\n",
    "        x = self.act_fn(x)\n",
    "        \n",
    "        x = x.view(-1, 4, 16)\n",
    "        \n",
    "        q = self.Q(x) # (batch, 4, 8)\n",
    "        k = self.K(x) # (batch, 4, 8)\n",
    "        v = self.V(x) # (batch, 4, 8)\n",
    "        \n",
    "        score = torch.matmul(q, torch.transpose(k, 1, 2)) # (batch, 4, 16)\n",
    "        score = self.softmax(score) / np.sqrt(8)         # (batch, 4, 16)\n",
    "        \n",
    "        z = torch.matmul(score, v) # (batch, 4, 8)\n",
    "        z = z.view(-1, 4*8)\n",
    "        \n",
    "        x = self.fc2(z)\n",
    "        x = self.act_fn(x)\n",
    "        \n",
    "        x = self.fc3(x)\n",
    "        return x"
   ]
  },
  {
   "cell_type": "markdown",
   "id": "f257db6b",
   "metadata": {},
   "source": [
    "## 모델 학습 및 성능 검증"
   ]
  },
  {
   "cell_type": "markdown",
   "id": "229ff920",
   "metadata": {},
   "source": [
    "## 단순 선형회귀"
   ]
  },
  {
   "cell_type": "code",
   "execution_count": 11,
   "id": "9f156856",
   "metadata": {},
   "outputs": [
    {
     "name": "stdout",
     "output_type": "stream",
     "text": [
      "Model : MyModel1(\n",
      "  (fc1): Linear(in_features=4, out_features=16, bias=True)\n",
      "  (fc2): Linear(in_features=16, out_features=8, bias=True)\n",
      "  (fc3): Linear(in_features=8, out_features=3, bias=True)\n",
      "  (act_fn): ReLU()\n",
      ")\n",
      "model's number of Parameters:  243\n"
     ]
    }
   ],
   "source": [
    "model = MyModel1().to(DEVICE)\n",
    "opt = optim.Adam(model.parameters())\n",
    "\n",
    "print(\"Model :\",model)\n",
    "print(\"model's number of Parameters: \", sum([p.numel() for p in model.parameters()]))"
   ]
  },
  {
   "cell_type": "code",
   "execution_count": 12,
   "id": "f036e183",
   "metadata": {},
   "outputs": [
    {
     "name": "stdout",
     "output_type": "stream",
     "text": [
      "<<< EPOCH 1 >>>\n"
     ]
    },
    {
     "data": {
      "application/vnd.jupyter.widget-view+json": {
       "model_id": "3cae3a9b2fef4c4f967cfbbf85e808cc",
       "version_major": 2,
       "version_minor": 0
      },
      "text/plain": [
       "  0%|          | 0/32 [00:00<?, ?it/s]"
      ]
     },
     "metadata": {},
     "output_type": "display_data"
    },
    {
     "name": "stdout",
     "output_type": "stream",
     "text": [
      "Training : [40/127 (31%)]\tLoss: 1.046869\t Acc : 0.189\n",
      "Training : [80/127 (62%)]\tLoss: 1.130223\t Acc : 0.276\n",
      "Training : [120/127 (94%)]\tLoss: 1.117985\t Acc : 0.370\n",
      "\n",
      "1 Training : Loss: 1.069064\t Acc : 0.378\n"
     ]
    },
    {
     "data": {
      "application/vnd.jupyter.widget-view+json": {
       "model_id": "799840bf0afb44918eca2ad9cd6433a4",
       "version_major": 2,
       "version_minor": 0
      },
      "text/plain": [
       "  0%|          | 0/12 [00:00<?, ?it/s]"
      ]
     },
     "metadata": {},
     "output_type": "display_data"
    },
    {
     "name": "stdout",
     "output_type": "stream",
     "text": [
      "1 Validation : Loss : 1.0696\t Acc: 30.43%\n",
      "\n",
      "\n",
      "\n",
      "<<< EPOCH 2 >>>\n"
     ]
    },
    {
     "data": {
      "application/vnd.jupyter.widget-view+json": {
       "model_id": "bb5264ca1e0e404fbbd1a2a94ef2f7ad",
       "version_major": 2,
       "version_minor": 0
      },
      "text/plain": [
       "  0%|          | 0/32 [00:00<?, ?it/s]"
      ]
     },
     "metadata": {},
     "output_type": "display_data"
    },
    {
     "name": "stdout",
     "output_type": "stream",
     "text": [
      "Training : [40/127 (31%)]\tLoss: 1.101946\t Acc : 0.094\n",
      "Training : [80/127 (62%)]\tLoss: 1.070963\t Acc : 0.205\n",
      "Training : [120/127 (94%)]\tLoss: 0.989257\t Acc : 0.323\n",
      "\n",
      "2 Training : Loss: 0.992205\t Acc : 0.339\n"
     ]
    },
    {
     "data": {
      "application/vnd.jupyter.widget-view+json": {
       "model_id": "2e3357bd0d6e4a34ad25ef04b82b7079",
       "version_major": 2,
       "version_minor": 0
      },
      "text/plain": [
       "  0%|          | 0/12 [00:00<?, ?it/s]"
      ]
     },
     "metadata": {},
     "output_type": "display_data"
    },
    {
     "name": "stdout",
     "output_type": "stream",
     "text": [
      "2 Validation : Loss : 1.0526\t Acc: 30.43%\n",
      "\n",
      "\n",
      "\n",
      "<<< EPOCH 3 >>>\n"
     ]
    },
    {
     "data": {
      "application/vnd.jupyter.widget-view+json": {
       "model_id": "bf8e1bc7b9cf450eb2d2b9f003ec2460",
       "version_major": 2,
       "version_minor": 0
      },
      "text/plain": [
       "  0%|          | 0/32 [00:00<?, ?it/s]"
      ]
     },
     "metadata": {},
     "output_type": "display_data"
    },
    {
     "name": "stdout",
     "output_type": "stream",
     "text": [
      "Training : [40/127 (31%)]\tLoss: 1.052973\t Acc : 0.102\n",
      "Training : [80/127 (62%)]\tLoss: 1.046572\t Acc : 0.205\n",
      "Training : [120/127 (94%)]\tLoss: 1.035451\t Acc : 0.331\n",
      "\n",
      "3 Training : Loss: 1.024177\t Acc : 0.339\n"
     ]
    },
    {
     "data": {
      "application/vnd.jupyter.widget-view+json": {
       "model_id": "cd0d86315c094ae7b1dddbcc7ba7b844",
       "version_major": 2,
       "version_minor": 0
      },
      "text/plain": [
       "  0%|          | 0/12 [00:00<?, ?it/s]"
      ]
     },
     "metadata": {},
     "output_type": "display_data"
    },
    {
     "name": "stdout",
     "output_type": "stream",
     "text": [
      "3 Validation : Loss : 1.0330\t Acc: 30.43%\n",
      "\n",
      "\n",
      "\n",
      "<<< EPOCH 4 >>>\n"
     ]
    },
    {
     "data": {
      "application/vnd.jupyter.widget-view+json": {
       "model_id": "a57301a937db48c585558cfcd5aab6b5",
       "version_major": 2,
       "version_minor": 0
      },
      "text/plain": [
       "  0%|          | 0/32 [00:00<?, ?it/s]"
      ]
     },
     "metadata": {},
     "output_type": "display_data"
    },
    {
     "name": "stdout",
     "output_type": "stream",
     "text": [
      "Training : [40/127 (31%)]\tLoss: 1.043535\t Acc : 0.118\n",
      "Training : [80/127 (62%)]\tLoss: 0.915214\t Acc : 0.205\n",
      "Training : [120/127 (94%)]\tLoss: 0.882705\t Acc : 0.339\n",
      "\n",
      "4 Training : Loss: 0.908218\t Acc : 0.354\n"
     ]
    },
    {
     "data": {
      "application/vnd.jupyter.widget-view+json": {
       "model_id": "6efbd39bfdb34b60938e532fcf7c3c5c",
       "version_major": 2,
       "version_minor": 0
      },
      "text/plain": [
       "  0%|          | 0/12 [00:00<?, ?it/s]"
      ]
     },
     "metadata": {},
     "output_type": "display_data"
    },
    {
     "name": "stdout",
     "output_type": "stream",
     "text": [
      "4 Validation : Loss : 1.0039\t Acc: 34.78%\n",
      "\n",
      "\n",
      "\n",
      "<<< EPOCH 5 >>>\n"
     ]
    },
    {
     "data": {
      "application/vnd.jupyter.widget-view+json": {
       "model_id": "eda372e2668948af852d3d3ca86e9cac",
       "version_major": 2,
       "version_minor": 0
      },
      "text/plain": [
       "  0%|          | 0/32 [00:00<?, ?it/s]"
      ]
     },
     "metadata": {},
     "output_type": "display_data"
    },
    {
     "name": "stdout",
     "output_type": "stream",
     "text": [
      "Training : [40/127 (31%)]\tLoss: 0.927398\t Acc : 0.150\n",
      "Training : [80/127 (62%)]\tLoss: 0.855122\t Acc : 0.291\n",
      "Training : [120/127 (94%)]\tLoss: 0.991866\t Acc : 0.441\n",
      "\n",
      "5 Training : Loss: 1.073041\t Acc : 0.449\n"
     ]
    },
    {
     "data": {
      "application/vnd.jupyter.widget-view+json": {
       "model_id": "a6a4752c74254e188ecea0c8b1c3a4a5",
       "version_major": 2,
       "version_minor": 0
      },
      "text/plain": [
       "  0%|          | 0/12 [00:00<?, ?it/s]"
      ]
     },
     "metadata": {},
     "output_type": "display_data"
    },
    {
     "name": "stdout",
     "output_type": "stream",
     "text": [
      "5 Validation : Loss : 0.9718\t Acc: 56.52%\n",
      "\n",
      "\n",
      "\n",
      "<<< EPOCH 6 >>>\n"
     ]
    },
    {
     "data": {
      "application/vnd.jupyter.widget-view+json": {
       "model_id": "42c721accba746dda463b3a29a8afd48",
       "version_major": 2,
       "version_minor": 0
      },
      "text/plain": [
       "  0%|          | 0/32 [00:00<?, ?it/s]"
      ]
     },
     "metadata": {},
     "output_type": "display_data"
    },
    {
     "name": "stdout",
     "output_type": "stream",
     "text": [
      "Training : [40/127 (31%)]\tLoss: 0.806549\t Acc : 0.268\n",
      "Training : [80/127 (62%)]\tLoss: 0.933075\t Acc : 0.441\n",
      "Training : [120/127 (94%)]\tLoss: 0.978890\t Acc : 0.646\n",
      "\n",
      "6 Training : Loss: 0.859639\t Acc : 0.669\n"
     ]
    },
    {
     "data": {
      "application/vnd.jupyter.widget-view+json": {
       "model_id": "b527ac7dfd214184a42916fe2ff44613",
       "version_major": 2,
       "version_minor": 0
      },
      "text/plain": [
       "  0%|          | 0/12 [00:00<?, ?it/s]"
      ]
     },
     "metadata": {},
     "output_type": "display_data"
    },
    {
     "name": "stdout",
     "output_type": "stream",
     "text": [
      "6 Validation : Loss : 0.9080\t Acc: 65.22%\n",
      "\n",
      "\n",
      "\n",
      "<<< EPOCH 7 >>>\n"
     ]
    },
    {
     "data": {
      "application/vnd.jupyter.widget-view+json": {
       "model_id": "58f84b11ab484f90bd43112c2ea7921b",
       "version_major": 2,
       "version_minor": 0
      },
      "text/plain": [
       "  0%|          | 0/32 [00:00<?, ?it/s]"
      ]
     },
     "metadata": {},
     "output_type": "display_data"
    },
    {
     "name": "stdout",
     "output_type": "stream",
     "text": [
      "Training : [40/127 (31%)]\tLoss: 0.963439\t Acc : 0.244\n",
      "Training : [80/127 (62%)]\tLoss: 0.802488\t Acc : 0.457\n",
      "Training : [120/127 (94%)]\tLoss: 0.787190\t Acc : 0.669\n",
      "\n",
      "7 Training : Loss: 1.053189\t Acc : 0.669\n"
     ]
    },
    {
     "data": {
      "application/vnd.jupyter.widget-view+json": {
       "model_id": "0347758834b14cc294547aefcd27eae6",
       "version_major": 2,
       "version_minor": 0
      },
      "text/plain": [
       "  0%|          | 0/12 [00:00<?, ?it/s]"
      ]
     },
     "metadata": {},
     "output_type": "display_data"
    },
    {
     "name": "stdout",
     "output_type": "stream",
     "text": [
      "7 Validation : Loss : 0.8292\t Acc: 65.22%\n",
      "\n",
      "\n",
      "\n",
      "<<< EPOCH 8 >>>\n"
     ]
    },
    {
     "data": {
      "application/vnd.jupyter.widget-view+json": {
       "model_id": "7652937b627849709f3466b62023fef2",
       "version_major": 2,
       "version_minor": 0
      },
      "text/plain": [
       "  0%|          | 0/32 [00:00<?, ?it/s]"
      ]
     },
     "metadata": {},
     "output_type": "display_data"
    },
    {
     "name": "stdout",
     "output_type": "stream",
     "text": [
      "Training : [40/127 (31%)]\tLoss: 0.684191\t Acc : 0.228\n",
      "Training : [80/127 (62%)]\tLoss: 0.915533\t Acc : 0.402\n",
      "Training : [120/127 (94%)]\tLoss: 0.598772\t Acc : 0.661\n",
      "\n",
      "8 Training : Loss: 0.865083\t Acc : 0.669\n"
     ]
    },
    {
     "data": {
      "application/vnd.jupyter.widget-view+json": {
       "model_id": "ca0dcb9b9a3b4ed283a8639164da20c9",
       "version_major": 2,
       "version_minor": 0
      },
      "text/plain": [
       "  0%|          | 0/12 [00:00<?, ?it/s]"
      ]
     },
     "metadata": {},
     "output_type": "display_data"
    },
    {
     "name": "stdout",
     "output_type": "stream",
     "text": [
      "8 Validation : Loss : 0.7457\t Acc: 65.22%\n",
      "\n",
      "\n",
      "\n",
      "<<< EPOCH 9 >>>\n"
     ]
    },
    {
     "data": {
      "application/vnd.jupyter.widget-view+json": {
       "model_id": "8fa10e4a14c94ee7b3dcb629fb487877",
       "version_major": 2,
       "version_minor": 0
      },
      "text/plain": [
       "  0%|          | 0/32 [00:00<?, ?it/s]"
      ]
     },
     "metadata": {},
     "output_type": "display_data"
    },
    {
     "name": "stdout",
     "output_type": "stream",
     "text": [
      "Training : [40/127 (31%)]\tLoss: 0.802042\t Acc : 0.205\n",
      "Training : [80/127 (62%)]\tLoss: 0.774793\t Acc : 0.457\n",
      "Training : [120/127 (94%)]\tLoss: 0.491868\t Acc : 0.661\n",
      "\n",
      "9 Training : Loss: 0.822680\t Acc : 0.669\n"
     ]
    },
    {
     "data": {
      "application/vnd.jupyter.widget-view+json": {
       "model_id": "c6e529fad2e342b19251ab6a8108f234",
       "version_major": 2,
       "version_minor": 0
      },
      "text/plain": [
       "  0%|          | 0/12 [00:00<?, ?it/s]"
      ]
     },
     "metadata": {},
     "output_type": "display_data"
    },
    {
     "name": "stdout",
     "output_type": "stream",
     "text": [
      "9 Validation : Loss : 0.6623\t Acc: 65.22%\n",
      "\n",
      "\n",
      "\n",
      "<<< EPOCH 10 >>>\n"
     ]
    },
    {
     "data": {
      "application/vnd.jupyter.widget-view+json": {
       "model_id": "7333bf888ce44c778d7d135f2c826bfe",
       "version_major": 2,
       "version_minor": 0
      },
      "text/plain": [
       "  0%|          | 0/32 [00:00<?, ?it/s]"
      ]
     },
     "metadata": {},
     "output_type": "display_data"
    },
    {
     "name": "stdout",
     "output_type": "stream",
     "text": [
      "Training : [40/127 (31%)]\tLoss: 0.847679\t Acc : 0.205\n",
      "Training : [80/127 (62%)]\tLoss: 0.639355\t Acc : 0.417\n",
      "Training : [120/127 (94%)]\tLoss: 0.595597\t Acc : 0.654\n",
      "\n",
      "10 Training : Loss: 0.383359\t Acc : 0.677\n"
     ]
    },
    {
     "data": {
      "application/vnd.jupyter.widget-view+json": {
       "model_id": "75ed21441b864ce9a855c6b37b01fa7f",
       "version_major": 2,
       "version_minor": 0
      },
      "text/plain": [
       "  0%|          | 0/12 [00:00<?, ?it/s]"
      ]
     },
     "metadata": {},
     "output_type": "display_data"
    },
    {
     "name": "stdout",
     "output_type": "stream",
     "text": [
      "10 Validation : Loss : 0.5935\t Acc: 65.22%\n",
      "\n",
      "\n",
      "\n"
     ]
    }
   ],
   "source": [
    "t_loss_his, t_acc_his, v_loss_his, v_acc_his = train(EPOCHS = 10, model = model, train_loader = train_loader, valid_loader = valid_loader, opt = opt)"
   ]
  },
  {
   "cell_type": "code",
   "execution_count": 13,
   "id": "622afcb3",
   "metadata": {},
   "outputs": [
    {
     "data": {
      "image/png": "[encoded data removed]",
      "text/plain": [
       "<Figure size 432x288 with 1 Axes>"
      ]
     },
     "metadata": {
      "needs_background": "light"
     },
     "output_type": "display_data"
    }
   ],
   "source": [
    "plt.plot(t_loss_his, label=\"train\")\n",
    "plt.plot(v_loss_his, label=\"valid\")\n",
    "plt.legend()\n",
    "plt.title(\"Loss\")\n",
    "plt.show()"
   ]
  },
  {
   "cell_type": "code",
   "execution_count": 14,
   "id": "3f143acd",
   "metadata": {},
   "outputs": [
    {
     "data": {
      "image/png": "[encoded data removed]",
      "text/plain": [
       "<Figure size 432x288 with 1 Axes>"
      ]
     },
     "metadata": {
      "needs_background": "light"
     },
     "output_type": "display_data"
    }
   ],
   "source": [
    "plt.plot(t_acc_his, label=\"train\")\n",
    "plt.plot(v_acc_his, label=\"valid\")\n",
    "plt.legend()\n",
    "plt.title(\"Accuracy\")\n",
    "plt.show()"
   ]
  },
  {
   "cell_type": "markdown",
   "id": "ac04c81c",
   "metadata": {},
   "source": [
    "## 셀프 어텐션 적용 모델"
   ]
  },
  {
   "cell_type": "code",
   "execution_count": 15,
   "id": "38f0d5b8",
   "metadata": {},
   "outputs": [
    {
     "name": "stdout",
     "output_type": "stream",
     "text": [
      "Model : MyModel2(\n",
      "  (fc1): Linear(in_features=4, out_features=64, bias=True)\n",
      "  (Q): Linear(in_features=16, out_features=8, bias=True)\n",
      "  (K): Linear(in_features=16, out_features=8, bias=True)\n",
      "  (V): Linear(in_features=16, out_features=8, bias=True)\n",
      "  (fc2): Linear(in_features=32, out_features=8, bias=True)\n",
      "  (fc3): Linear(in_features=8, out_features=3, bias=True)\n",
      "  (act_fn): ReLU()\n",
      "  (softmax): Softmax(dim=-1)\n",
      ")\n",
      "model's number of Parameters:  1019\n"
     ]
    }
   ],
   "source": [
    "model = MyModel2().to(DEVICE)\n",
    "opt = optim.Adam(model.parameters())\n",
    "\n",
    "print(\"Model :\",model)\n",
    "print(\"model's number of Parameters: \", sum([p.numel() for p in model.parameters()]))"
   ]
  },
  {
   "cell_type": "code",
   "execution_count": 16,
   "id": "2aa2db93",
   "metadata": {},
   "outputs": [
    {
     "name": "stdout",
     "output_type": "stream",
     "text": [
      "<<< EPOCH 1 >>>\n"
     ]
    },
    {
     "data": {
      "application/vnd.jupyter.widget-view+json": {
       "model_id": "87fc2d672e734526b39dcb69acfd3833",
       "version_major": 2,
       "version_minor": 0
      },
      "text/plain": [
       "  0%|          | 0/32 [00:00<?, ?it/s]"
      ]
     },
     "metadata": {},
     "output_type": "display_data"
    },
    {
     "name": "stdout",
     "output_type": "stream",
     "text": [
      "Training : [40/127 (31%)]\tLoss: 1.113500\t Acc : 0.102\n",
      "Training : [80/127 (62%)]\tLoss: 1.031586\t Acc : 0.189\n",
      "Training : [120/127 (94%)]\tLoss: 1.065747\t Acc : 0.323\n",
      "\n",
      "1 Training : Loss: 0.859659\t Acc : 0.339\n"
     ]
    },
    {
     "data": {
      "application/vnd.jupyter.widget-view+json": {
       "model_id": "577829c4c1b34f4d99d1a805ce16bfd2",
       "version_major": 2,
       "version_minor": 0
      },
      "text/plain": [
       "  0%|          | 0/12 [00:00<?, ?it/s]"
      ]
     },
     "metadata": {},
     "output_type": "display_data"
    },
    {
     "name": "stdout",
     "output_type": "stream",
     "text": [
      "1 Validation : Loss : 1.0244\t Acc: 30.43%\n",
      "\n",
      "\n",
      "\n",
      "<<< EPOCH 2 >>>\n"
     ]
    },
    {
     "data": {
      "application/vnd.jupyter.widget-view+json": {
       "model_id": "71d5a64c8e4a4949bee8d82d0a2d5223",
       "version_major": 2,
       "version_minor": 0
      },
      "text/plain": [
       "  0%|          | 0/32 [00:00<?, ?it/s]"
      ]
     },
     "metadata": {},
     "output_type": "display_data"
    },
    {
     "name": "stdout",
     "output_type": "stream",
     "text": [
      "Training : [40/127 (31%)]\tLoss: 1.127708\t Acc : 0.142\n",
      "Training : [80/127 (62%)]\tLoss: 0.841290\t Acc : 0.276\n",
      "Training : [120/127 (94%)]\tLoss: 1.086602\t Acc : 0.472\n",
      "\n",
      "2 Training : Loss: 0.887653\t Acc : 0.496\n"
     ]
    },
    {
     "data": {
      "application/vnd.jupyter.widget-view+json": {
       "model_id": "107e3eaf5abe42239fe6282b3a9136ec",
       "version_major": 2,
       "version_minor": 0
      },
      "text/plain": [
       "  0%|          | 0/12 [00:00<?, ?it/s]"
      ]
     },
     "metadata": {},
     "output_type": "display_data"
    },
    {
     "name": "stdout",
     "output_type": "stream",
     "text": [
      "2 Validation : Loss : 0.8946\t Acc: 65.22%\n",
      "\n",
      "\n",
      "\n",
      "<<< EPOCH 3 >>>\n"
     ]
    },
    {
     "data": {
      "application/vnd.jupyter.widget-view+json": {
       "model_id": "748da72dc6f54e568c1b20af2a7fbf59",
       "version_major": 2,
       "version_minor": 0
      },
      "text/plain": [
       "  0%|          | 0/32 [00:00<?, ?it/s]"
      ]
     },
     "metadata": {},
     "output_type": "display_data"
    },
    {
     "name": "stdout",
     "output_type": "stream",
     "text": [
      "Training : [40/127 (31%)]\tLoss: 0.756816\t Acc : 0.236\n",
      "Training : [80/127 (62%)]\tLoss: 0.841800\t Acc : 0.425\n",
      "Training : [120/127 (94%)]\tLoss: 0.844786\t Acc : 0.654\n",
      "\n",
      "3 Training : Loss: 0.693494\t Acc : 0.669\n"
     ]
    },
    {
     "data": {
      "application/vnd.jupyter.widget-view+json": {
       "model_id": "42fd60a110684be68cdb0165c0549449",
       "version_major": 2,
       "version_minor": 0
      },
      "text/plain": [
       "  0%|          | 0/12 [00:00<?, ?it/s]"
      ]
     },
     "metadata": {},
     "output_type": "display_data"
    },
    {
     "name": "stdout",
     "output_type": "stream",
     "text": [
      "3 Validation : Loss : 0.7153\t Acc: 65.22%\n",
      "\n",
      "\n",
      "\n",
      "<<< EPOCH 4 >>>\n"
     ]
    },
    {
     "data": {
      "application/vnd.jupyter.widget-view+json": {
       "model_id": "505aaf906413400bb0294b4fe442dc15",
       "version_major": 2,
       "version_minor": 0
      },
      "text/plain": [
       "  0%|          | 0/32 [00:00<?, ?it/s]"
      ]
     },
     "metadata": {},
     "output_type": "display_data"
    },
    {
     "name": "stdout",
     "output_type": "stream",
     "text": [
      "Training : [40/127 (31%)]\tLoss: 0.723252\t Acc : 0.252\n",
      "Training : [80/127 (62%)]\tLoss: 0.442060\t Acc : 0.472\n",
      "Training : [120/127 (94%)]\tLoss: 0.399009\t Acc : 0.732\n",
      "\n",
      "4 Training : Loss: 1.111530\t Acc : 0.732\n"
     ]
    },
    {
     "data": {
      "application/vnd.jupyter.widget-view+json": {
       "model_id": "f4c85c36929a439e996f07c085e644ff",
       "version_major": 2,
       "version_minor": 0
      },
      "text/plain": [
       "  0%|          | 0/12 [00:00<?, ?it/s]"
      ]
     },
     "metadata": {},
     "output_type": "display_data"
    },
    {
     "name": "stdout",
     "output_type": "stream",
     "text": [
      "4 Validation : Loss : 0.4725\t Acc: 82.61%\n",
      "\n",
      "\n",
      "\n",
      "<<< EPOCH 5 >>>\n"
     ]
    },
    {
     "data": {
      "application/vnd.jupyter.widget-view+json": {
       "model_id": "40549caaa42d4fa2ade9933c1bc67836",
       "version_major": 2,
       "version_minor": 0
      },
      "text/plain": [
       "  0%|          | 0/32 [00:00<?, ?it/s]"
      ]
     },
     "metadata": {},
     "output_type": "display_data"
    },
    {
     "name": "stdout",
     "output_type": "stream",
     "text": [
      "Training : [40/127 (31%)]\tLoss: 0.575504\t Acc : 0.323\n",
      "Training : [80/127 (62%)]\tLoss: 0.390208\t Acc : 0.622\n",
      "Training : [120/127 (94%)]\tLoss: 0.219252\t Acc : 0.921\n",
      "\n",
      "5 Training : Loss: 0.325798\t Acc : 0.945\n"
     ]
    },
    {
     "data": {
      "application/vnd.jupyter.widget-view+json": {
       "model_id": "c0b274b46662472292754a4c65a3d57b",
       "version_major": 2,
       "version_minor": 0
      },
      "text/plain": [
       "  0%|          | 0/12 [00:00<?, ?it/s]"
      ]
     },
     "metadata": {},
     "output_type": "display_data"
    },
    {
     "name": "stdout",
     "output_type": "stream",
     "text": [
      "5 Validation : Loss : 0.2406\t Acc: 100.00%\n",
      "\n",
      "\n",
      "\n",
      "<<< EPOCH 6 >>>\n"
     ]
    },
    {
     "data": {
      "application/vnd.jupyter.widget-view+json": {
       "model_id": "9a0823d284e04e24a2268f25f0e0159b",
       "version_major": 2,
       "version_minor": 0
      },
      "text/plain": [
       "  0%|          | 0/32 [00:00<?, ?it/s]"
      ]
     },
     "metadata": {},
     "output_type": "display_data"
    },
    {
     "name": "stdout",
     "output_type": "stream",
     "text": [
      "Training : [40/127 (31%)]\tLoss: 0.395101\t Acc : 0.331\n",
      "Training : [80/127 (62%)]\tLoss: 0.076219\t Acc : 0.622\n",
      "Training : [120/127 (94%)]\tLoss: 0.086285\t Acc : 0.937\n",
      "\n",
      "6 Training : Loss: 0.196019\t Acc : 0.961\n"
     ]
    },
    {
     "data": {
      "application/vnd.jupyter.widget-view+json": {
       "model_id": "f6c9b5a14dec49b5806e6b42a4cebf7a",
       "version_major": 2,
       "version_minor": 0
      },
      "text/plain": [
       "  0%|          | 0/12 [00:00<?, ?it/s]"
      ]
     },
     "metadata": {},
     "output_type": "display_data"
    },
    {
     "name": "stdout",
     "output_type": "stream",
     "text": [
      "6 Validation : Loss : 0.2022\t Acc: 91.30%\n",
      "\n",
      "\n",
      "\n",
      "<<< EPOCH 7 >>>\n"
     ]
    },
    {
     "data": {
      "application/vnd.jupyter.widget-view+json": {
       "model_id": "52b00c8cbcc94589bd3f882b7a122a24",
       "version_major": 2,
       "version_minor": 0
      },
      "text/plain": [
       "  0%|          | 0/32 [00:00<?, ?it/s]"
      ]
     },
     "metadata": {},
     "output_type": "display_data"
    },
    {
     "name": "stdout",
     "output_type": "stream",
     "text": [
      "Training : [40/127 (31%)]\tLoss: 0.098364\t Acc : 0.339\n",
      "Training : [80/127 (62%)]\tLoss: 0.107942\t Acc : 0.638\n",
      "Training : [120/127 (94%)]\tLoss: 0.075968\t Acc : 0.937\n",
      "\n",
      "7 Training : Loss: 0.048186\t Acc : 0.961\n"
     ]
    },
    {
     "data": {
      "application/vnd.jupyter.widget-view+json": {
       "model_id": "ce14de18a97245188d04f9c4bd0004bf",
       "version_major": 2,
       "version_minor": 0
      },
      "text/plain": [
       "  0%|          | 0/12 [00:00<?, ?it/s]"
      ]
     },
     "metadata": {},
     "output_type": "display_data"
    },
    {
     "name": "stdout",
     "output_type": "stream",
     "text": [
      "7 Validation : Loss : 0.1665\t Acc: 91.30%\n",
      "\n",
      "\n",
      "\n",
      "<<< EPOCH 8 >>>\n"
     ]
    },
    {
     "data": {
      "application/vnd.jupyter.widget-view+json": {
       "model_id": "6c528c31fba3438483c55538d52867f1",
       "version_major": 2,
       "version_minor": 0
      },
      "text/plain": [
       "  0%|          | 0/32 [00:00<?, ?it/s]"
      ]
     },
     "metadata": {},
     "output_type": "display_data"
    },
    {
     "name": "stdout",
     "output_type": "stream",
     "text": [
      "Training : [40/127 (31%)]\tLoss: 0.037399\t Acc : 0.323\n",
      "Training : [80/127 (62%)]\tLoss: 0.051439\t Acc : 0.606\n",
      "Training : [120/127 (94%)]\tLoss: 0.297479\t Acc : 0.906\n",
      "\n",
      "8 Training : Loss: 0.087844\t Acc : 0.929\n"
     ]
    },
    {
     "data": {
      "application/vnd.jupyter.widget-view+json": {
       "model_id": "a5661131f7364e528760bf6e2341b099",
       "version_major": 2,
       "version_minor": 0
      },
      "text/plain": [
       "  0%|          | 0/12 [00:00<?, ?it/s]"
      ]
     },
     "metadata": {},
     "output_type": "display_data"
    },
    {
     "name": "stdout",
     "output_type": "stream",
     "text": [
      "8 Validation : Loss : 0.0917\t Acc: 100.00%\n",
      "\n",
      "\n",
      "\n",
      "<<< EPOCH 9 >>>\n"
     ]
    },
    {
     "data": {
      "application/vnd.jupyter.widget-view+json": {
       "model_id": "6d145c6e6e174c6ba4f2e42bad180ddd",
       "version_major": 2,
       "version_minor": 0
      },
      "text/plain": [
       "  0%|          | 0/32 [00:00<?, ?it/s]"
      ]
     },
     "metadata": {},
     "output_type": "display_data"
    },
    {
     "name": "stdout",
     "output_type": "stream",
     "text": [
      "Training : [40/127 (31%)]\tLoss: 0.060780\t Acc : 0.315\n",
      "Training : [80/127 (62%)]\tLoss: 0.543211\t Acc : 0.614\n",
      "Training : [120/127 (94%)]\tLoss: 0.054991\t Acc : 0.921\n",
      "\n",
      "9 Training : Loss: 0.023854\t Acc : 0.945\n"
     ]
    },
    {
     "data": {
      "application/vnd.jupyter.widget-view+json": {
       "model_id": "dfdaedc057fa4fb3b8f4cc7d2aba342c",
       "version_major": 2,
       "version_minor": 0
      },
      "text/plain": [
       "  0%|          | 0/12 [00:00<?, ?it/s]"
      ]
     },
     "metadata": {},
     "output_type": "display_data"
    },
    {
     "name": "stdout",
     "output_type": "stream",
     "text": [
      "9 Validation : Loss : 0.0623\t Acc: 100.00%\n",
      "\n",
      "\n",
      "\n",
      "<<< EPOCH 10 >>>\n"
     ]
    },
    {
     "data": {
      "application/vnd.jupyter.widget-view+json": {
       "model_id": "f712a6fc932f4c50a2b932b3fd8a87ad",
       "version_major": 2,
       "version_minor": 0
      },
      "text/plain": [
       "  0%|          | 0/32 [00:00<?, ?it/s]"
      ]
     },
     "metadata": {},
     "output_type": "display_data"
    },
    {
     "name": "stdout",
     "output_type": "stream",
     "text": [
      "Training : [40/127 (31%)]\tLoss: 0.153605\t Acc : 0.315\n",
      "Training : [80/127 (62%)]\tLoss: 0.285837\t Acc : 0.598\n",
      "Training : [120/127 (94%)]\tLoss: 0.031138\t Acc : 0.898\n",
      "\n",
      "10 Training : Loss: 0.043692\t Acc : 0.921\n"
     ]
    },
    {
     "data": {
      "application/vnd.jupyter.widget-view+json": {
       "model_id": "875682ff05304eda8913a05df36cfdf8",
       "version_major": 2,
       "version_minor": 0
      },
      "text/plain": [
       "  0%|          | 0/12 [00:00<?, ?it/s]"
      ]
     },
     "metadata": {},
     "output_type": "display_data"
    },
    {
     "name": "stdout",
     "output_type": "stream",
     "text": [
      "10 Validation : Loss : 0.0581\t Acc: 100.00%\n",
      "\n",
      "\n",
      "\n"
     ]
    }
   ],
   "source": [
    "t_loss_his, t_acc_his, v_loss_his, v_acc_his = train(EPOCHS = 10, model = model, train_loader = train_loader, valid_loader = valid_loader, opt = opt)"
   ]
  },
  {
   "cell_type": "code",
   "execution_count": 17,
   "id": "1ed98779",
   "metadata": {},
   "outputs": [
    {
     "data": {
      "image/png": "[encoded data removed]",
      "text/plain": [
       "<Figure size 432x288 with 1 Axes>"
      ]
     },
     "metadata": {
      "needs_background": "light"
     },
     "output_type": "display_data"
    }
   ],
   "source": [
    "plt.plot(t_loss_his, label=\"train\")\n",
    "plt.plot(v_loss_his, label=\"valid\")\n",
    "plt.legend()\n",
    "plt.show()"
   ]
  },
  {
   "cell_type": "code",
   "execution_count": 18,
   "id": "d4cdba5c",
   "metadata": {},
   "outputs": [
    {
     "data": {
      "image/png": "[encoded data removed]",
      "text/plain": [
       "<Figure size 432x288 with 1 Axes>"
      ]
     },
     "metadata": {
      "needs_background": "light"
     },
     "output_type": "display_data"
    }
   ],
   "source": [
    "plt.plot(t_acc_his, label=\"train\")\n",
    "plt.plot(v_acc_his, label=\"valid\")\n",
    "plt.legend()\n",
    "plt.show()"
   ]
  },
  {
   "cell_type": "code",
   "execution_count": null,
   "id": "a9bbc1f1",
   "metadata": {},
   "outputs": [],
   "source": []
  }
 ],
 "metadata": {
  "kernelspec": {
   "display_name": "JSY_GPU",
   "language": "python",
   "name": "jsy_gpu"
  },
  "language_info": {
   "codemirror_mode": {
    "name": "ipython",
    "version": 3
   },
   "file_extension": ".py",
   "mimetype": "text/x-python",
   "name": "python",
   "nbconvert_exporter": "python",
   "pygments_lexer": "ipython3",
   "version": "3.7.11"
  }
 },
 "nbformat": 4,
 "nbformat_minor": 5
}
